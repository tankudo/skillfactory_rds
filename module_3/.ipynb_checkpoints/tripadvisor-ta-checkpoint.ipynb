{
 "cells": [
  {
   "cell_type": "markdown",
   "metadata": {},
   "source": [
    "![](https://www.pata.org/wp-content/uploads/2014/09/TripAdvisor_Logo-300x119.png)\n",
    "# Predict TripAdvisor Rating\n",
    "## В этом соревновании нам предстоит предсказать рейтинг ресторана в TripAdvisor\n",
    "**По ходу задачи:**\n",
    "* Прокачаем работу с pandas\n",
    "* Научимся работать с Kaggle Notebooks\n",
    "* Поймем как делать предобработку различных данных\n",
    "* Научимся работать с пропущенными данными (Nan)\n",
    "* Познакомимся с различными видами кодирования признаков\n",
    "* Немного попробуем [Feature Engineering](https://ru.wikipedia.org/wiki/Конструирование_признаков) (генерировать новые признаки)\n",
    "* И совсем немного затронем ML\n",
    "* И многое другое...   \n",
    "\n",
    "\n",
    "\n",
    "### И самое важное, все это вы сможете сделать самостоятельно!\n",
    "\n",
    "*Этот Ноутбук являетсся Примером/Шаблоном к этому соревнованию (Baseline) и не служит готовым решением!*   \n",
    "Вы можете использовать его как основу для построения своего решения.\n",
    "\n",
    "> что такое baseline решение, зачем оно нужно и почему предоставлять baseline к соревнованию стало важным стандартом на kaggle и других площадках.   \n",
    "**baseline** создается больше как шаблон, где можно посмотреть как происходит обращение с входящими данными и что нужно получить на выходе. При этом МЛ начинка может быть достаточно простой, просто для примера. Это помогает быстрее приступить к самому МЛ, а не тратить ценное время на чисто инженерные задачи. \n",
    "Также baseline являеться хорошей опорной точкой по метрике. Если твое решение хуже baseline - ты явно делаешь что-то не то и стоит попробовать другой путь) \n",
    "\n",
    "В контексте нашего соревнования baseline идет с небольшими примерами того, что можно делать с данными, и с инструкцией, что делать дальше, чтобы улучшить результат.  Вообще готовым решением это сложно назвать, так как используются всего 2 самых простых признака (а остальные исключаются)."
   ]
  },
  {
   "cell_type": "markdown",
   "metadata": {},
   "source": [
    "# import"
   ]
  },
  {
   "cell_type": "code",
   "execution_count": 1,
   "metadata": {
    "_cell_guid": "b1076dfc-b9ad-4769-8c92-a6c4dae69d19",
    "_uuid": "8f2839f25d086af736a60e9eeb907d3b93b6e0e5"
   },
   "outputs": [
    {
     "name": "stdout",
     "output_type": "stream",
     "text": [
      "/kaggle/input/module3/popC.xlsx\n",
      "/kaggle/input/module3/world.xlsx\n",
      "/kaggle/input/sf-dst-restaurant-rating/kaggle_task.csv\n",
      "/kaggle/input/sf-dst-restaurant-rating/main_task.csv\n",
      "/kaggle/input/sf-dst-restaurant-rating/sample_submission.csv\n",
      "/kaggle/input/ptripadvisor/pTA.csv\n"
     ]
    }
   ],
   "source": [
    "# This Python 3 environment comes with many helpful analytics libraries installed\n",
    "# It is defined by the kaggle/python docker image: https://github.com/kaggle/docker-python\n",
    "# For example, here's several helpful packages to load in \n",
    "\n",
    "import numpy as np # linear algebra\n",
    "import pandas as pd # data processing, CSV file I/O (e.g. pd.read_csv)\n",
    "\n",
    "import matplotlib.pyplot as plt\n",
    "import seaborn as sns \n",
    "%matplotlib inline\n",
    "\n",
    "from itertools import combinations\n",
    "from scipy.stats import ttest_ind\n",
    "import statsmodels.api as sm\n",
    "import scipy.stats as sst\n",
    "from collections import Counter\n",
    "import re\n",
    "\n",
    "from sklearn.preprocessing import MinMaxScaler\n",
    "from sklearn.preprocessing import StandardScaler\n",
    "\n",
    "# Загружаем специальный удобный инструмент для разделения датасета:\n",
    "from sklearn.model_selection import train_test_split\n",
    "\n",
    "from sklearn.ensemble import RandomForestRegressor # инструмент для создания и обучения модели\n",
    "from sklearn import metrics # инструменты для оценки точности модели\n",
    "\n",
    "# Input data files are available in the \"../input/\" directory.\n",
    "# For example, running this (by clicking run or pressing Shift+Enter) will list all files under the input directory\n",
    "\n",
    "import os\n",
    "\n",
    "filenames_list = []\n",
    "for dirname, _, filenames in os.walk('/kaggle/input'):\n",
    "    for filename in filenames:\n",
    "        print(os.path.join(dirname, filename))\n",
    "        filenames_list.append(os.path.join(dirname, filename))\n",
    "\n",
    "# Any results you write to the current directory are saved as output.\n",
    "\n"
   ]
  },
  {
   "cell_type": "code",
   "execution_count": 2,
   "metadata": {},
   "outputs": [],
   "source": [
    "# всегда фиксируйте RANDOM_SEED, чтобы ваши эксперименты были воспроизводимы!\n",
    "RANDOM_SEED = 42"
   ]
  },
  {
   "cell_type": "code",
   "execution_count": 3,
   "metadata": {},
   "outputs": [],
   "source": [
    "# зафиксируем версию пакетов, чтобы эксперименты были воспроизводимы:\n",
    "!pip freeze > requirements.txt"
   ]
  },
  {
   "cell_type": "markdown",
   "metadata": {},
   "source": [
    "# DATA"
   ]
  },
  {
   "cell_type": "code",
   "execution_count": 4,
   "metadata": {
    "_cell_guid": "79c7e3d0-c299-4dcb-8224-4455121ee9b0",
    "_uuid": "d629ff2d2480ee46fbb7e2d37f6b5fab8052498a"
   },
   "outputs": [],
   "source": [
    "DATA_DIR = '/kaggle/input/sf-dst-restaurant-rating/'\n",
    "df_train = pd.read_csv(DATA_DIR+'/main_task.csv')\n",
    "df_test = pd.read_csv(DATA_DIR+'kaggle_task.csv')\n",
    "sample_submission = pd.read_csv(DATA_DIR+'/sample_submission.csv')\n",
    "wd = pd.read_excel('/kaggle/input/module3/world.xlsx')\n",
    "df2 = pd.read_csv('/kaggle/input/ptripadvisor/pTA.csv')"
   ]
  },
  {
   "cell_type": "code",
   "execution_count": 5,
   "metadata": {},
   "outputs": [],
   "source": [
    "# ВАЖНО! дря корректной обработки признаков объединяем трейн и тест в один датасет\n",
    "df_train['sample'] = 1 # помечаем где у нас трейн\n",
    "df_test['sample'] = 0 # помечаем где у нас тест\n",
    "df_test['Rating'] = 0 # в тесте у нас нет значения Rating, мы его должны предсказать, по этому пока просто заполняем нулями\n",
    "\n",
    "df = df_test.append(df_train, sort=False).reset_index(drop=True) # объединяем"
   ]
  },
  {
   "cell_type": "code",
   "execution_count": 6,
   "metadata": {},
   "outputs": [
    {
     "data": {
      "text/plain": [
       "\"[['Very good reviews!', 'Fine dining in Hakaniemi'], ['12/05/2017', '10/29/2017']]\""
      ]
     },
     "execution_count": 6,
     "metadata": {},
     "output_type": "execute_result"
    }
   ],
   "source": [
    "df.Reviews[1]"
   ]
  },
  {
   "cell_type": "markdown",
   "metadata": {},
   "source": [
    "Как видим, большинство признаков у нас требует очистки и предварительной обработки."
   ]
  },
  {
   "cell_type": "markdown",
   "metadata": {},
   "source": [
    "# Cleaning and Prepping Data\n",
    "Обычно данные содержат в себе кучу мусора, который необходимо почистить, для того чтобы привести их в приемлемый формат. Чистка данных — это необходимый этап решения почти любой реальной задачи.   \n",
    "![](https://analyticsindiamag.com/wp-content/uploads/2018/01/data-cleaning.png)"
   ]
  },
  {
   "cell_type": "markdown",
   "metadata": {},
   "source": [
    "## 1. Обработка NAN \n",
    "У наличия пропусков могут быть разные причины, но пропуски нужно либо заполнить, либо исключить из набора полностью. Но с пропусками нужно быть внимательным, **даже отсутствие информации может быть важным признаком!**   \n",
    "По этому перед обработкой NAN лучше вынести информацию о наличии пропуска как отдельный признак "
   ]
  },
  {
   "cell_type": "markdown",
   "metadata": {},
   "source": [
    "### 2. Обработка признаков\n",
    "Для начала посмотрим какие признаки у нас могут быть категориальными."
   ]
  },
  {
   "cell_type": "markdown",
   "metadata": {},
   "source": [
    "### Restaurant_id"
   ]
  },
  {
   "cell_type": "code",
   "execution_count": 7,
   "metadata": {},
   "outputs": [
    {
     "data": {
      "text/plain": [
       "id_436      19\n",
       "id_871      19\n",
       "id_227      19\n",
       "id_633      19\n",
       "id_430      18\n",
       "            ..\n",
       "id_10227     1\n",
       "id_12053     1\n",
       "id_9834      1\n",
       "id_10293     1\n",
       "id_8506      1\n",
       "Name: Restaurant_id, Length: 13094, dtype: int64"
      ]
     },
     "execution_count": 7,
     "metadata": {},
     "output_type": "execute_result"
    }
   ],
   "source": [
    "# Проверяем уникальность признака Restaurant_id. Есть повторения. \n",
    "df.Restaurant_id.value_counts()"
   ]
  },
  {
   "cell_type": "code",
   "execution_count": 8,
   "metadata": {},
   "outputs": [
    {
     "data": {
      "text/plain": [
       "Text(0.5, 1.0, 'Распределие пизнака Restaurant_id')"
      ]
     },
     "execution_count": 8,
     "metadata": {},
     "output_type": "execute_result"
    },
    {
     "data": {
      "image/png": "[encoded data removed]",
      "text/plain": [
       "<Figure size 936x576 with 1 Axes>"
      ]
     },
     "metadata": {
      "needs_background": "light"
     },
     "output_type": "display_data"
    }
   ],
   "source": [
    "# Проверим распределение признака.\n",
    "plt.rcParams['figure.figsize'] = (13,8)\n",
    "ds = df['Restaurant_id'].value_counts().hist(bins=100)\n",
    "ds.set_xlabel('колличество повторов')\n",
    "ds.set_ylabel('сумма повторов')\n",
    "ds.set_title('Распределие пизнака Restaurant_id')"
   ]
  },
  {
   "cell_type": "code",
   "execution_count": 9,
   "metadata": {},
   "outputs": [],
   "source": [
    "# Так как этот столбец не имеет аналитической ценности. Его можно удалить.\n",
    "df.drop(['Restaurant_id'], inplace = True, axis = 1)"
   ]
  },
  {
   "cell_type": "markdown",
   "metadata": {},
   "source": [
    "### ID_TA"
   ]
  },
  {
   "cell_type": "code",
   "execution_count": 10,
   "metadata": {},
   "outputs": [
    {
     "data": {
      "text/plain": [
       "d4914988     2\n",
       "d11921719    2\n",
       "d1028622     2\n",
       "d10316215    2\n",
       "d5617412     2\n",
       "            ..\n",
       "d1605551     1\n",
       "d2076026     1\n",
       "d734347      1\n",
       "d2355765     1\n",
       "d3746362     1\n",
       "Name: ID_TA, Length: 49963, dtype: int64"
      ]
     },
     "execution_count": 10,
     "metadata": {},
     "output_type": "execute_result"
    }
   ],
   "source": [
    "# Есть еще одна колонка, в которой есть уникальные id рестаранов.\n",
    "df['ID_TA'].value_counts()"
   ]
  },
  {
   "cell_type": "code",
   "execution_count": 11,
   "metadata": {},
   "outputs": [],
   "source": [
    "# Создадим новый признак, фактически дигетализируем ID_TA\n",
    "df['Restaurant_ID'] = df['ID_TA'].apply(lambda x: float(x[1:]))"
   ]
  },
  {
   "cell_type": "markdown",
   "metadata": {},
   "source": [
    "### URL_TA"
   ]
  },
  {
   "cell_type": "code",
   "execution_count": 12,
   "metadata": {},
   "outputs": [
    {
     "data": {
      "text/plain": [
       "/Restaurant_Review-g274856-d3396817-Reviews-Restauracja_Olive_Garden-Warsaw_Mazovia_Province_Central_Poland.html    2\n",
       "/Restaurant_Review-g187514-d1235635-Reviews-Restaurante_Arroceria_Puerta_de_Atocha-Madrid.html                      2\n",
       "/Restaurant_Review-g187514-d3685055-Reviews-Shukran-Madrid.html                                                     2\n",
       "/Restaurant_Review-g187514-d793170-Reviews-Caripen_Bistro-Madrid.html                                               2\n",
       "/Restaurant_Review-g187514-d3647024-Reviews-La_Zamorana-Madrid.html                                                 2\n",
       "                                                                                                                   ..\n",
       "/Restaurant_Review-g187331-d1357533-Reviews-Sailors_Inn_Inh_Gunter_Klimek-Hamburg.html                              1\n",
       "/Restaurant_Review-g189400-d8571934-Reviews-Royal_Curry_House-Athens_Attica.html                                    1\n",
       "/Restaurant_Review-g186338-d8362311-Reviews-Burger_Lobster_Threadneedle_Street-London_England.html                  1\n",
       "/Restaurant_Review-g274887-d7701632-Reviews-Corleone_Kavehaz_es_Cukraszda-Budapest_Central_Hungary.html             1\n",
       "/Restaurant_Review-g189158-d3519461-Reviews-Feel_Rio-Lisbon_Lisbon_District_Central_Portugal.html                   1\n",
       "Name: URL_TA, Length: 49963, dtype: int64"
      ]
     },
     "execution_count": 12,
     "metadata": {},
     "output_type": "execute_result"
    }
   ],
   "source": [
    "# Здесь тоже есть повторения, проверим как они сопостовляются со ссылками на рестораны.\n",
    "df['URL_TA'].value_counts()"
   ]
  },
  {
   "cell_type": "code",
   "execution_count": 13,
   "metadata": {},
   "outputs": [
    {
     "data": {
      "text/html": [
       "<div>\n",
       "<style scoped>\n",
       "    .dataframe tbody tr th:only-of-type {\n",
       "        vertical-align: middle;\n",
       "    }\n",
       "\n",
       "    .dataframe tbody tr th {\n",
       "        vertical-align: top;\n",
       "    }\n",
       "\n",
       "    .dataframe thead th {\n",
       "        text-align: right;\n",
       "    }\n",
       "</style>\n",
       "<table border=\"1\" class=\"dataframe\">\n",
       "  <thead>\n",
       "    <tr style=\"text-align: right;\">\n",
       "      <th></th>\n",
       "      <th>City</th>\n",
       "      <th>Cuisine Style</th>\n",
       "      <th>Ranking</th>\n",
       "      <th>Price Range</th>\n",
       "      <th>Number of Reviews</th>\n",
       "      <th>Reviews</th>\n",
       "      <th>URL_TA</th>\n",
       "      <th>ID_TA</th>\n",
       "      <th>sample</th>\n",
       "      <th>Rating</th>\n",
       "      <th>Restaurant_ID</th>\n",
       "    </tr>\n",
       "  </thead>\n",
       "  <tbody>\n",
       "    <tr>\n",
       "      <th>48946</th>\n",
       "      <td>Madrid</td>\n",
       "      <td>NaN</td>\n",
       "      <td>3244.0</td>\n",
       "      <td>NaN</td>\n",
       "      <td>13.0</td>\n",
       "      <td>[[], []]</td>\n",
       "      <td>/Restaurant_Review-g187514-d10047799-Reviews-E...</td>\n",
       "      <td>d10047799</td>\n",
       "      <td>1</td>\n",
       "      <td>5.0</td>\n",
       "      <td>10047799.0</td>\n",
       "    </tr>\n",
       "    <tr>\n",
       "      <th>23980</th>\n",
       "      <td>Madrid</td>\n",
       "      <td>NaN</td>\n",
       "      <td>3241.0</td>\n",
       "      <td>NaN</td>\n",
       "      <td>13.0</td>\n",
       "      <td>[[], []]</td>\n",
       "      <td>/Restaurant_Review-g187514-d10047799-Reviews-E...</td>\n",
       "      <td>d10047799</td>\n",
       "      <td>1</td>\n",
       "      <td>5.0</td>\n",
       "      <td>10047799.0</td>\n",
       "    </tr>\n",
       "    <tr>\n",
       "      <th>28388</th>\n",
       "      <td>Madrid</td>\n",
       "      <td>['Bar', 'European', 'Spanish', 'Delicatessen']</td>\n",
       "      <td>1231.0</td>\n",
       "      <td>$$$$</td>\n",
       "      <td>116.0</td>\n",
       "      <td>[['Visited the rooftop bar', 'SIXTH FLOOR ROOF...</td>\n",
       "      <td>/Restaurant_Review-g187514-d1028622-Reviews-La...</td>\n",
       "      <td>d1028622</td>\n",
       "      <td>1</td>\n",
       "      <td>4.0</td>\n",
       "      <td>1028622.0</td>\n",
       "    </tr>\n",
       "    <tr>\n",
       "      <th>4534</th>\n",
       "      <td>Madrid</td>\n",
       "      <td>['Bar', 'European', 'Spanish', 'Delicatessen']</td>\n",
       "      <td>1253.0</td>\n",
       "      <td>$$$$</td>\n",
       "      <td>116.0</td>\n",
       "      <td>[['Visited the rooftop bar', 'SIXTH FLOOR ROOF...</td>\n",
       "      <td>/Restaurant_Review-g187514-d1028622-Reviews-La...</td>\n",
       "      <td>d1028622</td>\n",
       "      <td>0</td>\n",
       "      <td>0.0</td>\n",
       "      <td>1028622.0</td>\n",
       "    </tr>\n",
       "    <tr>\n",
       "      <th>118</th>\n",
       "      <td>Warsaw</td>\n",
       "      <td>['Italian']</td>\n",
       "      <td>1801.0</td>\n",
       "      <td>$</td>\n",
       "      <td>3.0</td>\n",
       "      <td>[[], []]</td>\n",
       "      <td>/Restaurant_Review-g274856-d10316215-Reviews-B...</td>\n",
       "      <td>d10316215</td>\n",
       "      <td>0</td>\n",
       "      <td>0.0</td>\n",
       "      <td>10316215.0</td>\n",
       "    </tr>\n",
       "    <tr>\n",
       "      <th>...</th>\n",
       "      <td>...</td>\n",
       "      <td>...</td>\n",
       "      <td>...</td>\n",
       "      <td>...</td>\n",
       "      <td>...</td>\n",
       "      <td>...</td>\n",
       "      <td>...</td>\n",
       "      <td>...</td>\n",
       "      <td>...</td>\n",
       "      <td>...</td>\n",
       "      <td>...</td>\n",
       "    </tr>\n",
       "    <tr>\n",
       "      <th>22938</th>\n",
       "      <td>Madrid</td>\n",
       "      <td>NaN</td>\n",
       "      <td>2488.0</td>\n",
       "      <td>NaN</td>\n",
       "      <td>10.0</td>\n",
       "      <td>[['Absolutely authentic and delicious!', 'Wond...</td>\n",
       "      <td>/Restaurant_Review-g187514-d9802625-Reviews-La...</td>\n",
       "      <td>d9802625</td>\n",
       "      <td>1</td>\n",
       "      <td>5.0</td>\n",
       "      <td>9802625.0</td>\n",
       "    </tr>\n",
       "    <tr>\n",
       "      <th>25295</th>\n",
       "      <td>Madrid</td>\n",
       "      <td>['Japanese', 'Vegetarian Friendly', 'Vegan Opt...</td>\n",
       "      <td>476.0</td>\n",
       "      <td>$$ - $$$</td>\n",
       "      <td>67.0</td>\n",
       "      <td>[['Whenever in Madrid, we never miss this gem....</td>\n",
       "      <td>/Restaurant_Review-g187514-d9877640-Reviews-Ra...</td>\n",
       "      <td>d9877640</td>\n",
       "      <td>1</td>\n",
       "      <td>4.5</td>\n",
       "      <td>9877640.0</td>\n",
       "    </tr>\n",
       "    <tr>\n",
       "      <th>25565</th>\n",
       "      <td>Madrid</td>\n",
       "      <td>['Japanese', 'Vegetarian Friendly', 'Vegan Opt...</td>\n",
       "      <td>531.0</td>\n",
       "      <td>$$ - $$$</td>\n",
       "      <td>67.0</td>\n",
       "      <td>[['Whenever in Madrid, we never miss this gem....</td>\n",
       "      <td>/Restaurant_Review-g187514-d9877640-Reviews-Ra...</td>\n",
       "      <td>d9877640</td>\n",
       "      <td>1</td>\n",
       "      <td>4.5</td>\n",
       "      <td>9877640.0</td>\n",
       "    </tr>\n",
       "    <tr>\n",
       "      <th>18019</th>\n",
       "      <td>Madrid</td>\n",
       "      <td>['Seafood', 'Mediterranean', 'European', 'Span...</td>\n",
       "      <td>2363.0</td>\n",
       "      <td>$$ - $$$</td>\n",
       "      <td>190.0</td>\n",
       "      <td>[['Nice restaurant in Madrid', 'Highly reccome...</td>\n",
       "      <td>/Restaurant_Review-g187514-d987900-Reviews-Com...</td>\n",
       "      <td>d987900</td>\n",
       "      <td>1</td>\n",
       "      <td>4.0</td>\n",
       "      <td>987900.0</td>\n",
       "    </tr>\n",
       "    <tr>\n",
       "      <th>32998</th>\n",
       "      <td>Madrid</td>\n",
       "      <td>['Seafood', 'Mediterranean', 'European', 'Span...</td>\n",
       "      <td>2314.0</td>\n",
       "      <td>$$ - $$$</td>\n",
       "      <td>190.0</td>\n",
       "      <td>[['Nice restaurant in Madrid', 'Highly reccome...</td>\n",
       "      <td>/Restaurant_Review-g187514-d987900-Reviews-Com...</td>\n",
       "      <td>d987900</td>\n",
       "      <td>1</td>\n",
       "      <td>4.0</td>\n",
       "      <td>987900.0</td>\n",
       "    </tr>\n",
       "  </tbody>\n",
       "</table>\n",
       "<p>74 rows × 11 columns</p>\n",
       "</div>"
      ],
      "text/plain": [
       "         City                                      Cuisine Style  Ranking  \\\n",
       "48946  Madrid                                                NaN   3244.0   \n",
       "23980  Madrid                                                NaN   3241.0   \n",
       "28388  Madrid     ['Bar', 'European', 'Spanish', 'Delicatessen']   1231.0   \n",
       "4534   Madrid     ['Bar', 'European', 'Spanish', 'Delicatessen']   1253.0   \n",
       "118    Warsaw                                        ['Italian']   1801.0   \n",
       "...       ...                                                ...      ...   \n",
       "22938  Madrid                                                NaN   2488.0   \n",
       "25295  Madrid  ['Japanese', 'Vegetarian Friendly', 'Vegan Opt...    476.0   \n",
       "25565  Madrid  ['Japanese', 'Vegetarian Friendly', 'Vegan Opt...    531.0   \n",
       "18019  Madrid  ['Seafood', 'Mediterranean', 'European', 'Span...   2363.0   \n",
       "32998  Madrid  ['Seafood', 'Mediterranean', 'European', 'Span...   2314.0   \n",
       "\n",
       "      Price Range  Number of Reviews  \\\n",
       "48946         NaN               13.0   \n",
       "23980         NaN               13.0   \n",
       "28388        $$$$              116.0   \n",
       "4534         $$$$              116.0   \n",
       "118             $                3.0   \n",
       "...           ...                ...   \n",
       "22938         NaN               10.0   \n",
       "25295    $$ - $$$               67.0   \n",
       "25565    $$ - $$$               67.0   \n",
       "18019    $$ - $$$              190.0   \n",
       "32998    $$ - $$$              190.0   \n",
       "\n",
       "                                                 Reviews  \\\n",
       "48946                                           [[], []]   \n",
       "23980                                           [[], []]   \n",
       "28388  [['Visited the rooftop bar', 'SIXTH FLOOR ROOF...   \n",
       "4534   [['Visited the rooftop bar', 'SIXTH FLOOR ROOF...   \n",
       "118                                             [[], []]   \n",
       "...                                                  ...   \n",
       "22938  [['Absolutely authentic and delicious!', 'Wond...   \n",
       "25295  [['Whenever in Madrid, we never miss this gem....   \n",
       "25565  [['Whenever in Madrid, we never miss this gem....   \n",
       "18019  [['Nice restaurant in Madrid', 'Highly reccome...   \n",
       "32998  [['Nice restaurant in Madrid', 'Highly reccome...   \n",
       "\n",
       "                                                  URL_TA      ID_TA  sample  \\\n",
       "48946  /Restaurant_Review-g187514-d10047799-Reviews-E...  d10047799       1   \n",
       "23980  /Restaurant_Review-g187514-d10047799-Reviews-E...  d10047799       1   \n",
       "28388  /Restaurant_Review-g187514-d1028622-Reviews-La...   d1028622       1   \n",
       "4534   /Restaurant_Review-g187514-d1028622-Reviews-La...   d1028622       0   \n",
       "118    /Restaurant_Review-g274856-d10316215-Reviews-B...  d10316215       0   \n",
       "...                                                  ...        ...     ...   \n",
       "22938  /Restaurant_Review-g187514-d9802625-Reviews-La...   d9802625       1   \n",
       "25295  /Restaurant_Review-g187514-d9877640-Reviews-Ra...   d9877640       1   \n",
       "25565  /Restaurant_Review-g187514-d9877640-Reviews-Ra...   d9877640       1   \n",
       "18019  /Restaurant_Review-g187514-d987900-Reviews-Com...    d987900       1   \n",
       "32998  /Restaurant_Review-g187514-d987900-Reviews-Com...    d987900       1   \n",
       "\n",
       "       Rating  Restaurant_ID  \n",
       "48946     5.0     10047799.0  \n",
       "23980     5.0     10047799.0  \n",
       "28388     4.0      1028622.0  \n",
       "4534      0.0      1028622.0  \n",
       "118       0.0     10316215.0  \n",
       "...       ...            ...  \n",
       "22938     5.0      9802625.0  \n",
       "25295     4.5      9877640.0  \n",
       "25565     4.5      9877640.0  \n",
       "18019     4.0       987900.0  \n",
       "32998     4.0       987900.0  \n",
       "\n",
       "[74 rows x 11 columns]"
      ]
     },
     "execution_count": 13,
     "metadata": {},
     "output_type": "execute_result"
    }
   ],
   "source": [
    "# Из таблицы видно, что мы имеем дело с дубликатами ресторанов. Причем значение Ranking у них не одинаковые.\n",
    "df[(df['URL_TA'].map(df['URL_TA'].value_counts()) == 2)].sort_values(by='ID_TA')"
   ]
  },
  {
   "cell_type": "code",
   "execution_count": 14,
   "metadata": {},
   "outputs": [
    {
     "data": {
      "text/plain": [
       "Madrid    70\n",
       "Warsaw     4\n",
       "Name: City, dtype: int64"
      ]
     },
     "execution_count": 14,
     "metadata": {},
     "output_type": "execute_result"
    }
   ],
   "source": [
    "# Дупликаты представлены в основном в Мадриде, но есть и в Варшаве.\n",
    "df[(df['URL_TA'].map(df['URL_TA'].value_counts()) == 2)].sort_values(by='ID_TA').City.value_counts()"
   ]
  },
  {
   "cell_type": "code",
   "execution_count": 15,
   "metadata": {},
   "outputs": [],
   "source": [
    "# Создадим новый признак, в котором сохраним разницу в ранке дупликатов.\n",
    "d = df.groupby('ID_TA').Ranking.mean()\n",
    "r= d.to_dict()\n",
    "df['Ranking_mean'] = df['ID_TA'].map(r)\n",
    "df['Ranking_diff'] = (abs(df['Ranking_mean'] - df['Ranking']))*2"
   ]
  },
  {
   "cell_type": "code",
   "execution_count": 16,
   "metadata": {},
   "outputs": [],
   "source": [
    "# Удалим дупликаты, это так же будет полезно во время парсинга сайта, что бы не делать лишние запросы.\n",
    "# А так же удалим столбец ID_TA.\n",
    "df.drop_duplicates(subset=['ID_TA'], inplace=True)\n",
    "df.drop(columns=['ID_TA'], inplace=True)"
   ]
  },
  {
   "cell_type": "markdown",
   "metadata": {},
   "source": [
    "### Ranking"
   ]
  },
  {
   "cell_type": "code",
   "execution_count": 17,
   "metadata": {},
   "outputs": [
    {
     "data": {
      "text/plain": [
       "<matplotlib.axes._subplots.AxesSubplot at 0x7f14a1ec4be0>"
      ]
     },
     "execution_count": 17,
     "metadata": {},
     "output_type": "execute_result"
    },
    {
     "data": {
      "image/png": "[encoded data removed]",
      "text/plain": [
       "<Figure size 936x576 with 1 Axes>"
      ]
     },
     "metadata": {
      "needs_background": "light"
     },
     "output_type": "display_data"
    }
   ],
   "source": [
    "# Проверим распределение признака Ranking.\n",
    "df['Ranking'].hist(bins=100)"
   ]
  },
  {
   "cell_type": "markdown",
   "metadata": {},
   "source": [
    "Ниже чивло -  выше ранк. Ранк распределен между ресторанами в городе. Т.е. в каждом городе есть ресторан с наивысшим нангом. но не в каждом с рангом с большим числом. Потому мы и видем такой график."
   ]
  },
  {
   "cell_type": "code",
   "execution_count": 18,
   "metadata": {},
   "outputs": [
    {
     "data": {
      "image/png": "[encoded data removed]",
      "text/plain": [
       "<Figure size 936x576 with 1 Axes>"
      ]
     },
     "metadata": {
      "needs_background": "light"
     },
     "output_type": "display_data"
    }
   ],
   "source": [
    "# На этом графике хорошо видно, что рейтинг нарямую зависит от колличества ресторанов в городе.\n",
    "for x in (df['City'].value_counts())[0:10].index:\n",
    "    df['Ranking'][df['City'] == x].hist(bins=100)\n",
    "plt.show()"
   ]
  },
  {
   "cell_type": "markdown",
   "metadata": {},
   "source": [
    "### City"
   ]
  },
  {
   "cell_type": "code",
   "execution_count": 19,
   "metadata": {},
   "outputs": [
    {
     "data": {
      "image/png": "[encoded data removed]",
      "text/plain": [
       "<Figure size 1080x360 with 1 Axes>"
      ]
     },
     "metadata": {
      "needs_background": "light"
     },
     "output_type": "display_data"
    }
   ],
   "source": [
    "# Проверим распределение Rating по городам.\n",
    "fig, ax = plt.subplots(figsize = (15, 5))\n",
    "\n",
    "sns.boxplot(x='City', y='Rating',data=df.loc[\n",
    "    df.loc[:, 'City'].isin(df.loc[:, 'City'].value_counts().index[:])\n",
    "],ax=ax)\n",
    "\n",
    "plt.xticks(rotation=45)\n",
    "ax.set_title('Boxplot for City')\n",
    "\n",
    "plt.show()"
   ]
  },
  {
   "cell_type": "markdown",
   "metadata": {},
   "source": [
    "Сразу заметро выбиваются рестораны Рима. А так же отдельно можно выделить ресторвны Мадрида."
   ]
  },
  {
   "cell_type": "code",
   "execution_count": 20,
   "metadata": {},
   "outputs": [],
   "source": [
    "df['is_Rome'] = df['City'].apply(lambda x: 1 if x == 'Rome' else 0)\n",
    "df['is_Madrid'] = df['City'].apply(lambda x: 1 if x == 'Helsinki' else 0)"
   ]
  },
  {
   "cell_type": "code",
   "execution_count": 21,
   "metadata": {},
   "outputs": [],
   "source": [
    "# Создадим новый признак, в котором пометим является город столицей или нет.\n",
    "Capitals = [\n",
    "    'Athens', 'Bratislava', 'London', 'Paris', 'Madrid', 'Berlin', 'Rome',\n",
    "    'Prague', 'Lisbon', 'Vienna', 'Amsterdam', 'Brussels', 'Stockholm',\n",
    "    'Budapest', 'Warsaw', 'Dublin', 'Copenhagen', 'Edinburgh', 'Oslo',\n",
    "    'Helsinki', 'Luxembourg', 'Ljubljana'\n",
    "]\n",
    "df['is_capital'] = df['City'].apply(lambda x: 1 if x in Capitals else 0)"
   ]
  },
  {
   "cell_type": "code",
   "execution_count": 22,
   "metadata": {},
   "outputs": [
    {
     "data": {
      "text/plain": [
       "<seaborn.axisgrid.JointGrid at 0x7f1491c11d30>"
      ]
     },
     "execution_count": 22,
     "metadata": {},
     "output_type": "execute_result"
    },
    {
     "data": {
      "text/plain": [
       "<Figure size 360x360 with 0 Axes>"
      ]
     },
     "metadata": {},
     "output_type": "display_data"
    },
    {
     "data": {
      "image/png": "[encoded data removed]",
      "text/plain": [
       "<Figure size 432x432 with 3 Axes>"
      ]
     },
     "metadata": {
      "needs_background": "light"
     },
     "output_type": "display_data"
    }
   ],
   "source": [
    "# Визуализируем распределение рейтинга по ранкам ресторанов в одном городе. Для примера возьмем самый\n",
    "# типичный случвй - рестораны Хельсинки.\n",
    "plt.figure(figsize = (5,5))\n",
    "sns.jointplot(data = df[(df.City == 'Madrid') & (df.Rating > 0)], x = 'Ranking', y = 'Rating', kind = 'kde')"
   ]
  },
  {
   "cell_type": "code",
   "execution_count": 23,
   "metadata": {},
   "outputs": [],
   "source": [
    "# Распределение Ranking и Raiting напоминает морду коня. Когда рестораны с наивыйшим Ranking, получают 4-4.5\n",
    "# Создадим признак, который на основании Ranking вычисляет значение Rating\n",
    "max_ranking = df.groupby(['City']).Ranking.max()\n",
    "def new_ranking(row):\n",
    "    return round(5 - 3.9*(1-row['Ranking'])/(1-max_ranking[row['City']]),1)\n",
    "\n",
    "df['rating_by_ranking'] = df.apply(new_ranking, axis = 1)\n",
    "rating_by_ranking = df['rating_by_ranking']\n",
    "rating_by_ranking.name = 'rating_by_ranking'"
   ]
  },
  {
   "cell_type": "code",
   "execution_count": 24,
   "metadata": {},
   "outputs": [],
   "source": [
    "# Нормализуем ранки ресторанов для всего дата фрейма, что бы можно было сравнивать не только\n",
    "# в городах. но и между собой\n",
    "reCount = df.City.value_counts()\n",
    "restCount = dict(reCount)\n",
    "df['DB_Restaurants_Count'] = df['City'].map(restCount)\n",
    "# Creating a new feature.\n",
    "df['DB_Relative_Ranking'] = df['Ranking'] / df['DB_Restaurants_Count']"
   ]
  },
  {
   "cell_type": "code",
   "execution_count": 25,
   "metadata": {},
   "outputs": [
    {
     "data": {
      "image/png": "[encoded data removed]",
      "text/plain": [
       "<Figure size 936x576 with 2 Axes>"
      ]
     },
     "metadata": {
      "needs_background": "light"
     },
     "output_type": "display_data"
    }
   ],
   "source": [
    "# Посмотрим на корреляционную матрицу.\n",
    "ax = sns.heatmap(df.corr(),annot = True, cmap = 'coolwarm')"
   ]
  },
  {
   "cell_type": "markdown",
   "metadata": {},
   "source": [
    "Заметна сильная негативная корреляция между Ratind_by_ranking и DB_Relative_Ranking. А так же положительная корреляция между Ranking_mean и Ranking"
   ]
  },
  {
   "cell_type": "code",
   "execution_count": 26,
   "metadata": {},
   "outputs": [],
   "source": [
    "# Добавин население города.\n",
    "population = {\n",
    "        'Paris': 2190327,\n",
    "        'Stockholm': 961609,\n",
    "        'London': 8908081,\n",
    "        'Berlin': 3644826,\n",
    "        'Munich': 1456039,\n",
    "        'Oporto': 237591,\n",
    "        'Milan': 1378689,\n",
    "        'Bratislava': 432864,\n",
    "        'Vienna': 1821582,\n",
    "        'Rome': 4355725,\n",
    "        'Barcelona': 1620343,\n",
    "        'Madrid': 3223334,\n",
    "        'Dublin': 1173179,\n",
    "        'Brussels': 179277,\n",
    "        'Zurich': 428737,\n",
    "        'Warsaw': 1758143,\n",
    "        'Budapest': 1752286,\n",
    "        'Copenhagen': 615993,\n",
    "        'Amsterdam': 857713,\n",
    "        'Lyon': 506615,\n",
    "        'Hamburg': 1841179,\n",
    "        'Lisbon': 505526,\n",
    "        'Prague': 1301132,\n",
    "        'Oslo': 673469,\n",
    "        'Helsinki': 643272,\n",
    "        'Edinburgh': 488100,\n",
    "        'Geneva': 200548,\n",
    "        'Ljubljana': 284355,\n",
    "        'Athens': 664046,\n",
    "        'Luxembourg': 115227,\n",
    "        'Krakow': 769498\n",
    "    }"
   ]
  },
  {
   "cell_type": "code",
   "execution_count": 27,
   "metadata": {},
   "outputs": [],
   "source": [
    "# И создадим два признака. Население и количество ресторанов начеловека в городе.\n",
    "df['Population'] = df['City'].map(population)\n",
    "df['Restaurants_density'] = df['DB_Restaurants_Count'] / df['Population']"
   ]
  },
  {
   "cell_type": "markdown",
   "metadata": {},
   "source": [
    "### Price Range"
   ]
  },
  {
   "cell_type": "code",
   "execution_count": 28,
   "metadata": {},
   "outputs": [
    {
     "data": {
      "text/plain": [
       "$$ - $$$    23020\n",
       "$            7811\n",
       "$$$$         1781\n",
       "Name: Price Range, dtype: int64"
      ]
     },
     "execution_count": 28,
     "metadata": {},
     "output_type": "execute_result"
    }
   ],
   "source": [
    "df['Price Range'].value_counts()"
   ]
  },
  {
   "cell_type": "markdown",
   "metadata": {},
   "source": [
    "По описанию 'Price Range' это - Цены в ресторане.  \n",
    "Их можно поставить по возрастанию (значит это не категориальный признак). А это значит, что их можно заменить последовательными числами, например 1,2,3  \n",
    "*Попробуйте сделать обработку этого признака уже самостоятельно!*"
   ]
  },
  {
   "cell_type": "code",
   "execution_count": 29,
   "metadata": {},
   "outputs": [],
   "source": [
    "# Заменяем пропущенные значения и меняем названия в ячейках для удобства\n",
    "prices = {'$': 1, '$$ - $$$': 2, '$$$$': 3, np.nan: 0}\n",
    "df['Price Range'] = df['Price Range'].replace(to_replace=prices)"
   ]
  },
  {
   "cell_type": "code",
   "execution_count": 30,
   "metadata": {},
   "outputs": [
    {
     "data": {
      "text/plain": [
       "2    23020\n",
       "0    17351\n",
       "1     7811\n",
       "3     1781\n",
       "Name: Price Range, dtype: int64"
      ]
     },
     "execution_count": 30,
     "metadata": {},
     "output_type": "execute_result"
    }
   ],
   "source": [
    "df['Price Range'].value_counts(dropna=False)"
   ]
  },
  {
   "cell_type": "markdown",
   "metadata": {},
   "source": [
    "### Cuisine Style"
   ]
  },
  {
   "cell_type": "code",
   "execution_count": 31,
   "metadata": {},
   "outputs": [
    {
     "data": {
      "text/plain": [
       "125"
      ]
     },
     "execution_count": 31,
     "metadata": {},
     "output_type": "execute_result"
    }
   ],
   "source": [
    "# Приводим все названия кухонь к одному формату.\n",
    "df['Cuisine Style'] = df['Cuisine Style'].str.lower()\n",
    "\n",
    "# Делаем преобразования.\n",
    "cuisineStyle = set()\n",
    "df['Cuisine Style'].fillna('unknown_cuisine', inplace=True)\n",
    "cuisines = df['Cuisine Style'].to_list()\n",
    "\n",
    "# Заполняем сет для получения уникальных значений.\n",
    "# А так же создаем список\n",
    "for cuisine in cuisines:\n",
    "    cuisine = re.findall(r\"'([\\s\\S]+?)'\", cuisine)\n",
    "    for j in cuisine:\n",
    "        cuisineStyle.add(j)\n",
    "        \n",
    "# Считаем сколько уникальных кухонь представлено в дата фрейме\n",
    "len(cuisineStyle)"
   ]
  },
  {
   "cell_type": "code",
   "execution_count": 32,
   "metadata": {},
   "outputs": [],
   "source": [
    "# Прошу прощение за этот уродливый и медленный код. Пыталась получить помощь от ментора что бы переписать, \n",
    "# но мне не ответили. Может теперь расскажите как упростить?\n",
    "# Было замечено, что разнообразие ресторанов не такое большое, как мы посчитали. Их довольно легко\n",
    "# определить в несколько категорий. Сделаем упрощение\n",
    "for i in df['Cuisine Style']:\n",
    "    if 'cafe' in i:\n",
    "        df['Cuisine Style'].replace(i,  \"cafe\", inplace=True)\n",
    "    elif 'pub' in i or 'bar' in i:\n",
    "         df['Cuisine Style'].replace(i,  \"bar\", inplace=True)\n",
    "    elif 'french' in i:\n",
    "        df['Cuisine Style'].replace(i,  \"french\", inplace=True)\n",
    "    elif 'italian' in i or 'pizza' in i:\n",
    "        df['Cuisine Style'].replace(i,  \"italian\", inplace=True)\n",
    "    elif 'chinese' in i:\n",
    "        df['Cuisine Style'].replace(i,  \"chinese\", inplace=True)\n",
    "    elif 'fast food' in i or 'american' in i or 'street food' in i:\n",
    "        df['Cuisine Style'].replace(i,  \"fast food\", inplace=True)\n",
    "    elif 'japanese' in i or 'sushi' in i:\n",
    "        df['Cuisine Style'].replace(i,  \"japanese\", inplace=True)\n",
    "    elif 'indian' in i:\n",
    "        df['Cuisine Style'].replace(i,  \"indian\", inplace=True)\n",
    "    elif 'thai' in i or 'asian' in i or 'vietnamese' in i:\n",
    "        df['Cuisine Style'].replace(i,  \"asian\", inplace=True)\n",
    "    elif 'european' in i or 'german' in i or 'spanish' in i or 'swedish' in i or 'british' in i or 'hungarian' in i:\n",
    "        df['Cuisine Style'].replace(i,  \"european\", inplace=True)\n",
    "    elif 'mediterranean' in i:\n",
    "        df['Cuisine Style'].replace(i,  \"mediterranean\", inplace=True)\n",
    "    elif 'vegetarian' in i or 'vegan' in i:\n",
    "        df['Cuisine Style'].replace(i,  \"vegetarian\", inplace=True)\n",
    "    elif 'middle eastern' in i:\n",
    "        df['Cuisine Style'].replace(i,  \"middle eastern\", inplace=True)\n",
    "    elif 'greek' in i:\n",
    "        df['Cuisine Style'].replace(i,  \"greek\", inplace=True)\n",
    "    elif 'mexican' in i:\n",
    "        df['Cuisine Style'].replace(i,  \"mexican\", inplace=True)\n",
    "    elif 'seafood' in i:\n",
    "        df['Cuisine Style'].replace(i,  \"seafood\", inplace=True)\n",
    "    "
   ]
  },
  {
   "cell_type": "code",
   "execution_count": 33,
   "metadata": {},
   "outputs": [
    {
     "data": {
      "text/plain": [
       "unknown_cuisine                                 11584\n",
       "european                                         7521\n",
       "italian                                          7166\n",
       "bar                                              5561\n",
       "french                                           3070\n",
       "                                                ...  \n",
       "['fusion', 'healthy']                               1\n",
       "['steakhouse', 'grill', 'portuguese']               1\n",
       "['lebanese', 'grill']                               1\n",
       "['cajun & creole', 'international', 'grill']        1\n",
       "['taiwanese']                                       1\n",
       "Name: Cuisine Style, Length: 153, dtype: int64"
      ]
     },
     "execution_count": 33,
     "metadata": {},
     "output_type": "execute_result"
    }
   ],
   "source": [
    "df['Cuisine Style'].value_counts()"
   ]
  },
  {
   "cell_type": "code",
   "execution_count": 34,
   "metadata": {},
   "outputs": [],
   "source": [
    "# Более редкие (частота которых встречается менее ста раз), пометим как 'other'. Создадим новый признак \n",
    "# Cuisine Style Frequencies, который будет соответствовать частоте встречаемости кухни\n",
    "df.loc[df['Cuisine Style'].map(df['Cuisine Style'].value_counts() < 100), 'Cuisine Style'] = \"other\"\n",
    "cuisineOccurance = (df['Cuisine Style'].value_counts())\n",
    "cousineStyleFr = dict(cuisineOccurance)\n",
    "df['Cuisine Style Frequencies'] = df['Cuisine Style'].map(cousineStyleFr)"
   ]
  },
  {
   "cell_type": "code",
   "execution_count": 35,
   "metadata": {},
   "outputs": [],
   "source": [
    "# Объеденим данные.\n",
    "df = pd.merge(df, wd, on='City', how='left')"
   ]
  },
  {
   "cell_type": "code",
   "execution_count": 36,
   "metadata": {},
   "outputs": [
    {
     "name": "stdout",
     "output_type": "stream",
     "text": [
      "<class 'pandas.core.frame.DataFrame'>\n",
      "Int64Index: 49963 entries, 0 to 49962\n",
      "Data columns (total 29 columns):\n",
      "City                         49963 non-null object\n",
      "Cuisine Style                49963 non-null object\n",
      "Ranking                      49963 non-null float64\n",
      "Price Range                  49963 non-null int64\n",
      "Number of Reviews            46763 non-null float64\n",
      "Reviews                      49961 non-null object\n",
      "URL_TA                       49963 non-null object\n",
      "sample                       49963 non-null int64\n",
      "Rating                       49963 non-null float64\n",
      "Restaurant_ID                49963 non-null float64\n",
      "Ranking_mean                 49963 non-null float64\n",
      "Ranking_diff                 49963 non-null float64\n",
      "is_Rome                      49963 non-null int64\n",
      "is_Madrid                    49963 non-null int64\n",
      "is_capital                   49963 non-null int64\n",
      "rating_by_ranking            49963 non-null float64\n",
      "DB_Restaurants_Count         49963 non-null int64\n",
      "DB_Relative_Ranking          49963 non-null float64\n",
      "Population                   49963 non-null int64\n",
      "Restaurants_density          49963 non-null float64\n",
      "Cuisine Style Frequencies    49963 non-null int64\n",
      "Rank                         46567 non-null float64\n",
      "Country                      46567 non-null object\n",
      "Place                        46567 non-null float64\n",
      "Product                      46567 non-null float64\n",
      "Programming                  46567 non-null float64\n",
      "People                       46567 non-null float64\n",
      "Prosperity                   46567 non-null float64\n",
      "Promotion                    46567 non-null float64\n",
      "dtypes: float64(16), int64(8), object(5)\n",
      "memory usage: 11.4+ MB\n"
     ]
    }
   ],
   "source": [
    "df.info()"
   ]
  },
  {
   "cell_type": "code",
   "execution_count": 37,
   "metadata": {},
   "outputs": [],
   "source": [
    "# Присвоим пустым значениям число 101 - за пределами первых 100 мест.\n",
    "df.Rank.fillna(101, inplace=True)"
   ]
  },
  {
   "cell_type": "markdown",
   "metadata": {},
   "source": [
    "### TripAdvisor parsing:\n",
    "Получили данные о количестве отзывов, заметили что многи рестораны пропали из базы данных TripAdvisor. Получили данные о последних 10 отзывах - даты и оценку."
   ]
  },
  {
   "cell_type": "code",
   "execution_count": 38,
   "metadata": {},
   "outputs": [],
   "source": [
    "# firsPage = df['URL_TA']\n",
    "# firsPageUrl = df['URL_TA'].to_dict()\n",
    "# firsPageUrl\n",
    "# f = open(\"ffirsPageUrl.pkl\",\"wb\")\n",
    "# pickle.dump(firsPageUrl,f)\n",
    "# f.close()\n",
    "\n",
    "\n",
    "# def getRaitings(r_id, url):\n",
    "#     raitingsList = []\n",
    "#     datesList = []\n",
    "#     raitingsAutoD = {}\n",
    "#     r = requests.get(url)\n",
    "#     soup = BeautifulSoup(r.content)\n",
    "#     nextLink = soup.find('link', rel='next')\n",
    "#     if nextLink:\n",
    "#         nextPage = nextLink.get('href')\n",
    "#         if 'Restaurant_' in nextPage:\n",
    "#             raiting = soup.find(\n",
    "#                     'div', class_='listContainer hide-more-mobile').find_all(\n",
    "#                         'span', {'class': 'ui_bubble_rating'})\n",
    "#             dates = soup.find(\n",
    "#                     'div', class_='listContainer hide-more-mobile').find_all(\n",
    "#                         'span', class_='ratingDate')\n",
    "#             raitNb = soup.find('span', class_ = '_3Wub8auF').get_text()\n",
    "#             for i in raiting:\n",
    "#                 i = i.get('class')\n",
    "#                 raitingsList.append(i[1][7:8])\n",
    "#             for j in dates:\n",
    "#                 j = j.text\n",
    "#                 datesList.append(j[9:])\n",
    "#             raitingsAutoD[r_id] = datesList, raitingsList, raitNb\n",
    "#             return raitingsAutoD\n",
    "#         else:\n",
    "#             raitingsList.append(\"Restaurant not found\")\n",
    "#             raitingsAutoD[r_id] = raitingsList\n",
    "#             return raitingsAutoD\n",
    "#     else:\n",
    "#         raiting = soup.find(\n",
    "#                 'div', class_='listContainer hide-more-mobile').find_all(\n",
    "#                     'span', {'class': 'ui_bubble_rating'})\n",
    "#         dates = soup.find(\n",
    "#                 'div', class_='listContainer hide-more-mobile').find_all(\n",
    "#                     'span', class_='ratingDate')\n",
    "#         raitNb = soup.find('span', class_ = '_3Wub8auF').get_text()\n",
    "#         for i in raiting:\n",
    "#             i = i.get('class')\n",
    "#             raitingsList.append(i[1][7:8])\n",
    "#         for j in dates:\n",
    "#             j = j.text\n",
    "#             datesList.append(j[9:])\n",
    "#         raitingsAutoD[r_id] = datesList, raitingsList, raitNb\n",
    "#         return raitingsAutoD\n",
    "\n",
    "# ddc = {}\n",
    "# link = \"https://www.tripadvisor.com\"\n",
    "# for k, v in firsPageUrl.items():\n",
    "#     ddc[k] = getRaitings(k, link+v)\n",
    "\n",
    "# f = open(\"parsedSite.pkl\",\"wb\")\n",
    "# pickle.dump(parsedSite,f)\n",
    "# f.close()"
   ]
  },
  {
   "cell_type": "code",
   "execution_count": 39,
   "metadata": {},
   "outputs": [],
   "source": [
    "# Вливаем новые данные в наш дата фрейм.\n",
    "df = pd.merge(df, df2, on='URL_TA', how ='left')"
   ]
  },
  {
   "cell_type": "code",
   "execution_count": 40,
   "metadata": {},
   "outputs": [
    {
     "name": "stdout",
     "output_type": "stream",
     "text": [
      "<class 'pandas.core.frame.DataFrame'>\n",
      "Int64Index: 49963 entries, 0 to 49962\n",
      "Data columns (total 51 columns):\n",
      "City                         49963 non-null object\n",
      "Cuisine Style                49963 non-null object\n",
      "Ranking                      49963 non-null float64\n",
      "Price Range                  49963 non-null int64\n",
      "Number of Reviews            46763 non-null float64\n",
      "Reviews                      49961 non-null object\n",
      "URL_TA                       49963 non-null object\n",
      "sample                       49963 non-null int64\n",
      "Rating                       49963 non-null float64\n",
      "Restaurant_ID                49963 non-null float64\n",
      "Ranking_mean                 49963 non-null float64\n",
      "Ranking_diff                 49963 non-null float64\n",
      "is_Rome                      49963 non-null int64\n",
      "is_Madrid                    49963 non-null int64\n",
      "is_capital                   49963 non-null int64\n",
      "rating_by_ranking            49963 non-null float64\n",
      "DB_Restaurants_Count         49963 non-null int64\n",
      "DB_Relative_Ranking          49963 non-null float64\n",
      "Population                   49963 non-null int64\n",
      "Restaurants_density          49963 non-null float64\n",
      "Cuisine Style Frequencies    49963 non-null int64\n",
      "Rank                         49963 non-null float64\n",
      "Country                      46567 non-null object\n",
      "Place                        46567 non-null float64\n",
      "Product                      46567 non-null float64\n",
      "Programming                  46567 non-null float64\n",
      "People                       46567 non-null float64\n",
      "Prosperity                   46567 non-null float64\n",
      "Promotion                    46567 non-null float64\n",
      "Review_stars                 36030 non-null object\n",
      "date_1                       36006 non-null object\n",
      "date_2                       32220 non-null object\n",
      "date_3                       29461 non-null object\n",
      "date_4                       27347 non-null object\n",
      "date_5                       25695 non-null object\n",
      "date_6                       24324 non-null object\n",
      "date_7                       23140 non-null object\n",
      "date_8                       22098 non-null object\n",
      "date_9                       21190 non-null object\n",
      "date_10                      20316 non-null object\n",
      "Time_dif1                    32220 non-null float64\n",
      "Time_dif2                    29461 non-null float64\n",
      "Time_dif3                    27347 non-null float64\n",
      "Time_dif4                    25695 non-null float64\n",
      "Time_dif5                    24324 non-null float64\n",
      "Time_dif6                    23140 non-null float64\n",
      "Time_dif7                    22098 non-null float64\n",
      "Time_dif8                    21190 non-null float64\n",
      "Time_dif9                    20316 non-null float64\n",
      "Time_dif10                   20316 non-null float64\n",
      "Nr_of_Reviews                39980 non-null float64\n",
      "dtypes: float64(27), int64(8), object(16)\n",
      "memory usage: 19.8+ MB\n"
     ]
    }
   ],
   "source": [
    "df.info()"
   ]
  },
  {
   "cell_type": "code",
   "execution_count": 41,
   "metadata": {},
   "outputs": [],
   "source": [
    "# Сразу после получения даннх высчитали разницу во времени между двумя ближайшими отзывами. Но в\n",
    "# связи с тем, что у многих ресторанов было меньше 10 отзывов, или вообще отсутствовал в базе данных,\n",
    "# много пропущенных значений. Заменим их на -1. \n",
    "df['Time_dif1'].fillna(-1,inplace=True)\n",
    "df['Time_dif2'].fillna(-1,inplace=True)\n",
    "df['Time_dif3'].fillna(-1,inplace=True)\n",
    "df['Time_dif4'].fillna(-1,inplace=True)\n",
    "df['Time_dif5'].fillna(-1,inplace=True)\n",
    "df['Time_dif6'].fillna(-1,inplace=True)\n",
    "df['Time_dif7'].fillna(-1,inplace=True)\n",
    "df['Time_dif8'].fillna(-1,inplace=True)\n",
    "df['Time_dif9'].fillna(-1,inplace=True)\n",
    "df['Time_dif10'].fillna(-1,inplace=True)"
   ]
  },
  {
   "cell_type": "markdown",
   "metadata": {},
   "source": [
    "### Number of reviews"
   ]
  },
  {
   "cell_type": "code",
   "execution_count": 42,
   "metadata": {},
   "outputs": [],
   "source": [
    "df['Number of Reviews'].fillna(0, inplace=True)"
   ]
  },
  {
   "cell_type": "code",
   "execution_count": 43,
   "metadata": {},
   "outputs": [],
   "source": [
    "# обработаем столбец Number of Reviews\n",
    "df['Reviews_nan'] = df['Number of Reviews'].apply(lambda x: 1 if x == 0 else 0)"
   ]
  },
  {
   "cell_type": "code",
   "execution_count": 44,
   "metadata": {},
   "outputs": [],
   "source": [
    "# Признак из внешних данных так же получит обработку\n",
    "df['Nr_of_Reviews'].fillna(0, inplace=True)"
   ]
  },
  {
   "cell_type": "code",
   "execution_count": 45,
   "metadata": {},
   "outputs": [],
   "source": [
    "# Посчитаем прирост отзывов\n",
    "df['Review_Growth'] = df['Nr_of_Reviews'] - df['Number of Reviews']"
   ]
  },
  {
   "cell_type": "code",
   "execution_count": 46,
   "metadata": {},
   "outputs": [],
   "source": [
    "# Добавим еще один признак. Среднее значение отзывав на город\n",
    "mean_rews_by_city = round((df.groupby(['City'])['Number of Reviews'].sum() /\n",
    "                           df.groupby(['City'])['Ranking'].max()), 2)\n",
    "mean_rews = df.City.apply(lambda x: mean_rews_by_city[x])\n",
    "mean_rews.name = 'Mean_rews'\n",
    "df = pd.concat([df, mean_rews],axis=1)"
   ]
  },
  {
   "cell_type": "markdown",
   "metadata": {},
   "source": [
    "### Посмотрим распределение признака"
   ]
  },
  {
   "cell_type": "code",
   "execution_count": 47,
   "metadata": {},
   "outputs": [
    {
     "data": {
      "text/plain": [
       "<matplotlib.axes._subplots.AxesSubplot at 0x7f1490168f28>"
      ]
     },
     "execution_count": 47,
     "metadata": {},
     "output_type": "execute_result"
    },
    {
     "data": {
      "image/png": "[encoded data removed]",
      "text/plain": [
       "<Figure size 720x504 with 1 Axes>"
      ]
     },
     "metadata": {
      "needs_background": "light"
     },
     "output_type": "display_data"
    }
   ],
   "source": [
    "plt.rcParams['figure.figsize'] = (10,7)\n",
    "df['Review_Growth'].hist(bins=100)"
   ]
  },
  {
   "cell_type": "markdown",
   "metadata": {},
   "source": [
    "Наличие отричательного прироста отзывов вызвано несколькими факторвми. Первый - пропавший из базы данных TripAdvisor ресторан. Вторая - ресторан не входил в список для получения дополнительной информации."
   ]
  },
  {
   "cell_type": "code",
   "execution_count": 48,
   "metadata": {},
   "outputs": [
    {
     "data": {
      "text/plain": [
       "21194"
      ]
     },
     "execution_count": 48,
     "metadata": {},
     "output_type": "execute_result"
    }
   ],
   "source": [
    "# Отсутствующие рестораны\n",
    "(df['Nr_of_Reviews']==0).sum()"
   ]
  },
  {
   "cell_type": "code",
   "execution_count": 49,
   "metadata": {},
   "outputs": [
    {
     "data": {
      "text/plain": [
       "18538"
      ]
     },
     "execution_count": 49,
     "metadata": {},
     "output_type": "execute_result"
    }
   ],
   "source": [
    "# Негативный прирост отзывов. Все эти проблемы могут ослоблять модель. но посмотрим помогут ли они нам.\n",
    "(df['Review_Growth']<0).sum()"
   ]
  },
  {
   "cell_type": "markdown",
   "metadata": {},
   "source": [
    "### Посмотрим распределение целевой переменной"
   ]
  },
  {
   "cell_type": "code",
   "execution_count": 50,
   "metadata": {},
   "outputs": [
    {
     "data": {
      "text/plain": [
       "<matplotlib.axes._subplots.AxesSubplot at 0x7f147b10b160>"
      ]
     },
     "execution_count": 50,
     "metadata": {},
     "output_type": "execute_result"
    },
    {
     "data": {
      "image/png": "[encoded data removed]",
      "text/plain": [
       "<Figure size 720x504 with 1 Axes>"
      ]
     },
     "metadata": {
      "needs_background": "light"
     },
     "output_type": "display_data"
    }
   ],
   "source": [
    "df_train['Rating'].value_counts(ascending=True).plot(kind='barh')"
   ]
  },
  {
   "cell_type": "markdown",
   "metadata": {},
   "source": [
    "### Посмотрим распределение целевой переменной относительно признака"
   ]
  },
  {
   "cell_type": "code",
   "execution_count": 51,
   "metadata": {},
   "outputs": [
    {
     "data": {
      "text/plain": [
       "<matplotlib.axes._subplots.AxesSubplot at 0x7f1491bb1588>"
      ]
     },
     "execution_count": 51,
     "metadata": {},
     "output_type": "execute_result"
    },
    {
     "data": {
      "image/png": "[encoded data removed]",
      "text/plain": [
       "<Figure size 720x504 with 1 Axes>"
      ]
     },
     "metadata": {
      "needs_background": "light"
     },
     "output_type": "display_data"
    }
   ],
   "source": [
    "df_train['Ranking'][df_train['Rating'] == 5].hist(bins=100)"
   ]
  },
  {
   "cell_type": "code",
   "execution_count": 52,
   "metadata": {},
   "outputs": [
    {
     "data": {
      "text/plain": [
       "<matplotlib.axes._subplots.AxesSubplot at 0x7f14a0fd37b8>"
      ]
     },
     "execution_count": 52,
     "metadata": {},
     "output_type": "execute_result"
    },
    {
     "data": {
      "image/png": "[encoded data removed]",
      "text/plain": [
       "<Figure size 720x504 with 1 Axes>"
      ]
     },
     "metadata": {
      "needs_background": "light"
     },
     "output_type": "display_data"
    }
   ],
   "source": [
    "df_train['Ranking'][df_train['Rating'] < 4].hist(bins=100)"
   ]
  },
  {
   "cell_type": "markdown",
   "metadata": {},
   "source": [
    "### И один из моих любимых - [корреляция признаков](https://ru.wikipedia.org/wiki/Корреляция)\n",
    "На этом графике уже сейчас вы сможете заметить, как признаки связаны между собой и с целевой переменной."
   ]
  },
  {
   "cell_type": "code",
   "execution_count": 53,
   "metadata": {},
   "outputs": [
    {
     "data": {
      "text/plain": [
       "<matplotlib.axes._subplots.AxesSubplot at 0x7f1491b7d630>"
      ]
     },
     "execution_count": 53,
     "metadata": {},
     "output_type": "execute_result"
    },
    {
     "data": {
      "image/png": "[encoded data removed]",
      "text/plain": [
       "<Figure size 1080x720 with 2 Axes>"
      ]
     },
     "metadata": {
      "needs_background": "light"
     },
     "output_type": "display_data"
    }
   ],
   "source": [
    "plt.rcParams['figure.figsize'] = (15,10)\n",
    "sns.heatmap(df.drop(['sample'], axis=1).corr(),)"
   ]
  },
  {
   "cell_type": "markdown",
   "metadata": {},
   "source": [
    "### Еще немного данных из статистики о лучших городах"
   ]
  },
  {
   "cell_type": "code",
   "execution_count": 54,
   "metadata": {},
   "outputs": [],
   "source": [
    "# Заменим отсутвтвующие значения средним\n",
    "\n",
    "df['Place'] = df['Place'].fillna(df['Programming'].mean())\n",
    "df['Programming'] = df['Programming'].fillna(df['Programming'].mean())\n",
    "df['Product'] = df['Product'].fillna(df['Product'].mean())\n",
    "df['People'] = df['People'].fillna(df['People'].mean())\n",
    "df['Prosperity'] = df['Prosperity'].fillna(df['Prosperity'].mean())\n",
    "df['Promotion'] = df['Promotion'].fillna(df['Promotion'].mean())"
   ]
  },
  {
   "cell_type": "markdown",
   "metadata": {},
   "source": [
    "### Review stars"
   ]
  },
  {
   "cell_type": "code",
   "execution_count": 55,
   "metadata": {},
   "outputs": [],
   "source": [
    "# Данные с сайта TripAdvisor\n",
    "\n",
    "review_stars = set()\n",
    "df['Review_stars'].fillna('None', inplace=True)\n",
    "df.isnull().sum()\n",
    "stars = df['Review_stars'].to_list()"
   ]
  },
  {
   "cell_type": "code",
   "execution_count": 56,
   "metadata": {},
   "outputs": [
    {
     "data": {
      "text/html": [
       "<div>\n",
       "<style scoped>\n",
       "    .dataframe tbody tr th:only-of-type {\n",
       "        vertical-align: middle;\n",
       "    }\n",
       "\n",
       "    .dataframe tbody tr th {\n",
       "        vertical-align: top;\n",
       "    }\n",
       "\n",
       "    .dataframe thead th {\n",
       "        text-align: right;\n",
       "    }\n",
       "</style>\n",
       "<table border=\"1\" class=\"dataframe\">\n",
       "  <thead>\n",
       "    <tr style=\"text-align: right;\">\n",
       "      <th></th>\n",
       "      <th>City</th>\n",
       "      <th>Cuisine Style</th>\n",
       "      <th>Ranking</th>\n",
       "      <th>Price Range</th>\n",
       "      <th>Number of Reviews</th>\n",
       "      <th>Reviews</th>\n",
       "      <th>URL_TA</th>\n",
       "      <th>sample</th>\n",
       "      <th>Rating</th>\n",
       "      <th>Restaurant_ID</th>\n",
       "      <th>...</th>\n",
       "      <th>Nr_of_Reviews</th>\n",
       "      <th>Reviews_nan</th>\n",
       "      <th>Review_Growth</th>\n",
       "      <th>Mean_rews</th>\n",
       "      <th>3</th>\n",
       "      <th>4</th>\n",
       "      <th>1</th>\n",
       "      <th>5</th>\n",
       "      <th>2</th>\n",
       "      <th>star</th>\n",
       "    </tr>\n",
       "  </thead>\n",
       "  <tbody>\n",
       "    <tr>\n",
       "      <th>13097</th>\n",
       "      <td>Paris</td>\n",
       "      <td>chinese</td>\n",
       "      <td>5064.0</td>\n",
       "      <td>3</td>\n",
       "      <td>114.0</td>\n",
       "      <td>[['nice chinese and thai food in Paris', 'Clas...</td>\n",
       "      <td>/Restaurant_Review-g187147-d7011342-Reviews-Ch...</td>\n",
       "      <td>1</td>\n",
       "      <td>4.0</td>\n",
       "      <td>7011342.0</td>\n",
       "      <td>...</td>\n",
       "      <td>175.0</td>\n",
       "      <td>0</td>\n",
       "      <td>61.0</td>\n",
       "      <td>48.68</td>\n",
       "      <td>1</td>\n",
       "      <td>1</td>\n",
       "      <td>1</td>\n",
       "      <td>1</td>\n",
       "      <td>1</td>\n",
       "      <td>10</td>\n",
       "    </tr>\n",
       "    <tr>\n",
       "      <th>48017</th>\n",
       "      <td>Prague</td>\n",
       "      <td>unknown_cuisine</td>\n",
       "      <td>1147.0</td>\n",
       "      <td>0</td>\n",
       "      <td>11.0</td>\n",
       "      <td>[['Opposite Hotel Metamorphosis: very good'], ...</td>\n",
       "      <td>/Restaurant_Review-g274707-d12181545-Reviews-M...</td>\n",
       "      <td>1</td>\n",
       "      <td>5.0</td>\n",
       "      <td>12181545.0</td>\n",
       "      <td>...</td>\n",
       "      <td>11.0</td>\n",
       "      <td>0</td>\n",
       "      <td>0.0</td>\n",
       "      <td>47.73</td>\n",
       "      <td>0</td>\n",
       "      <td>1</td>\n",
       "      <td>0</td>\n",
       "      <td>0</td>\n",
       "      <td>0</td>\n",
       "      <td>1</td>\n",
       "    </tr>\n",
       "    <tr>\n",
       "      <th>38487</th>\n",
       "      <td>Berlin</td>\n",
       "      <td>italian</td>\n",
       "      <td>3020.0</td>\n",
       "      <td>2</td>\n",
       "      <td>28.0</td>\n",
       "      <td>[['Decent pizza and nothing else close by.', '...</td>\n",
       "      <td>/Restaurant_Review-g187323-d866259-Reviews-Res...</td>\n",
       "      <td>1</td>\n",
       "      <td>4.0</td>\n",
       "      <td>866259.0</td>\n",
       "      <td>...</td>\n",
       "      <td>40.0</td>\n",
       "      <td>0</td>\n",
       "      <td>12.0</td>\n",
       "      <td>24.47</td>\n",
       "      <td>1</td>\n",
       "      <td>1</td>\n",
       "      <td>0</td>\n",
       "      <td>1</td>\n",
       "      <td>0</td>\n",
       "      <td>10</td>\n",
       "    </tr>\n",
       "    <tr>\n",
       "      <th>35269</th>\n",
       "      <td>London</td>\n",
       "      <td>asian</td>\n",
       "      <td>8967.0</td>\n",
       "      <td>2</td>\n",
       "      <td>0.0</td>\n",
       "      <td>[['One of the Best in Town'], ['12/11/2012']]</td>\n",
       "      <td>/Restaurant_Review-g186338-d1014035-Reviews-Ba...</td>\n",
       "      <td>1</td>\n",
       "      <td>5.0</td>\n",
       "      <td>1014035.0</td>\n",
       "      <td>...</td>\n",
       "      <td>0.0</td>\n",
       "      <td>1</td>\n",
       "      <td>0.0</td>\n",
       "      <td>56.78</td>\n",
       "      <td>0</td>\n",
       "      <td>0</td>\n",
       "      <td>0</td>\n",
       "      <td>1</td>\n",
       "      <td>0</td>\n",
       "      <td>1</td>\n",
       "    </tr>\n",
       "    <tr>\n",
       "      <th>27667</th>\n",
       "      <td>Madrid</td>\n",
       "      <td>unknown_cuisine</td>\n",
       "      <td>6161.0</td>\n",
       "      <td>0</td>\n",
       "      <td>4.0</td>\n",
       "      <td>[[], []]</td>\n",
       "      <td>/Restaurant_Review-g187514-d12407737-Reviews-E...</td>\n",
       "      <td>1</td>\n",
       "      <td>3.5</td>\n",
       "      <td>12407737.0</td>\n",
       "      <td>...</td>\n",
       "      <td>0.0</td>\n",
       "      <td>0</td>\n",
       "      <td>-4.0</td>\n",
       "      <td>39.90</td>\n",
       "      <td>1</td>\n",
       "      <td>1</td>\n",
       "      <td>0</td>\n",
       "      <td>1</td>\n",
       "      <td>0</td>\n",
       "      <td>5</td>\n",
       "    </tr>\n",
       "  </tbody>\n",
       "</table>\n",
       "<p>5 rows × 60 columns</p>\n",
       "</div>"
      ],
      "text/plain": [
       "         City    Cuisine Style  Ranking  Price Range  Number of Reviews  \\\n",
       "13097   Paris          chinese   5064.0            3              114.0   \n",
       "48017  Prague  unknown_cuisine   1147.0            0               11.0   \n",
       "38487  Berlin          italian   3020.0            2               28.0   \n",
       "35269  London            asian   8967.0            2                0.0   \n",
       "27667  Madrid  unknown_cuisine   6161.0            0                4.0   \n",
       "\n",
       "                                                 Reviews  \\\n",
       "13097  [['nice chinese and thai food in Paris', 'Clas...   \n",
       "48017  [['Opposite Hotel Metamorphosis: very good'], ...   \n",
       "38487  [['Decent pizza and nothing else close by.', '...   \n",
       "35269      [['One of the Best in Town'], ['12/11/2012']]   \n",
       "27667                                           [[], []]   \n",
       "\n",
       "                                                  URL_TA  sample  Rating  \\\n",
       "13097  /Restaurant_Review-g187147-d7011342-Reviews-Ch...       1     4.0   \n",
       "48017  /Restaurant_Review-g274707-d12181545-Reviews-M...       1     5.0   \n",
       "38487  /Restaurant_Review-g187323-d866259-Reviews-Res...       1     4.0   \n",
       "35269  /Restaurant_Review-g186338-d1014035-Reviews-Ba...       1     5.0   \n",
       "27667  /Restaurant_Review-g187514-d12407737-Reviews-E...       1     3.5   \n",
       "\n",
       "       Restaurant_ID  ...  Nr_of_Reviews  Reviews_nan  Review_Growth  \\\n",
       "13097      7011342.0  ...          175.0            0           61.0   \n",
       "48017     12181545.0  ...           11.0            0            0.0   \n",
       "38487       866259.0  ...           40.0            0           12.0   \n",
       "35269      1014035.0  ...            0.0            1            0.0   \n",
       "27667     12407737.0  ...            0.0            0           -4.0   \n",
       "\n",
       "       Mean_rews  3  4  1  5  2  star  \n",
       "13097      48.68  1  1  1  1  1    10  \n",
       "48017      47.73  0  1  0  0  0     1  \n",
       "38487      24.47  1  1  0  1  0    10  \n",
       "35269      56.78  0  0  0  1  0     1  \n",
       "27667      39.90  1  1  0  1  0     5  \n",
       "\n",
       "[5 rows x 60 columns]"
      ]
     },
     "execution_count": 56,
     "metadata": {},
     "output_type": "execute_result"
    }
   ],
   "source": [
    "for star in stars:\n",
    "    star = re.findall(r\"'([\\s\\S]+?)'\", star)\n",
    "    for j in star:\n",
    "        review_stars.add(j)\n",
    "len(review_stars)\n",
    "\n",
    "def find_item(cell):\n",
    "    if item in cell:\n",
    "        return 1\n",
    "    return 0\n",
    "\n",
    "for item in review_stars:\n",
    "    df[item] = df['Review_stars'].apply(find_item)\n",
    "    \n",
    "df['star'] = df['Review_stars'].apply(lambda x: 1 if x == 'None' else len(x.split(',')))\n",
    "df.sample(5)"
   ]
  },
  {
   "cell_type": "code",
   "execution_count": 57,
   "metadata": {},
   "outputs": [
    {
     "data": {
      "image/png": "[encoded data removed]",
      "text/plain": [
       "<Figure size 1080x720 with 2 Axes>"
      ]
     },
     "metadata": {
      "needs_background": "light"
     },
     "output_type": "display_data"
    }
   ],
   "source": [
    "ax = sns.heatmap(df.corr(), cmap = 'coolwarm')"
   ]
  },
  {
   "cell_type": "markdown",
   "metadata": {},
   "source": [
    "# Data Preprocessing"
   ]
  },
  {
   "cell_type": "markdown",
   "metadata": {},
   "source": [
    "#### Запускаем и проверяем что получилось"
   ]
  },
  {
   "cell_type": "code",
   "execution_count": 58,
   "metadata": {},
   "outputs": [
    {
     "name": "stdout",
     "output_type": "stream",
     "text": [
      "<class 'pandas.core.frame.DataFrame'>\n",
      "Int64Index: 49963 entries, 0 to 49962\n",
      "Data columns (total 60 columns):\n",
      "City                         49963 non-null object\n",
      "Cuisine Style                49963 non-null object\n",
      "Ranking                      49963 non-null float64\n",
      "Price Range                  49963 non-null int64\n",
      "Number of Reviews            49963 non-null float64\n",
      "Reviews                      49961 non-null object\n",
      "URL_TA                       49963 non-null object\n",
      "sample                       49963 non-null int64\n",
      "Rating                       49963 non-null float64\n",
      "Restaurant_ID                49963 non-null float64\n",
      "Ranking_mean                 49963 non-null float64\n",
      "Ranking_diff                 49963 non-null float64\n",
      "is_Rome                      49963 non-null int64\n",
      "is_Madrid                    49963 non-null int64\n",
      "is_capital                   49963 non-null int64\n",
      "rating_by_ranking            49963 non-null float64\n",
      "DB_Restaurants_Count         49963 non-null int64\n",
      "DB_Relative_Ranking          49963 non-null float64\n",
      "Population                   49963 non-null int64\n",
      "Restaurants_density          49963 non-null float64\n",
      "Cuisine Style Frequencies    49963 non-null int64\n",
      "Rank                         49963 non-null float64\n",
      "Country                      46567 non-null object\n",
      "Place                        49963 non-null float64\n",
      "Product                      49963 non-null float64\n",
      "Programming                  49963 non-null float64\n",
      "People                       49963 non-null float64\n",
      "Prosperity                   49963 non-null float64\n",
      "Promotion                    49963 non-null float64\n",
      "Review_stars                 49963 non-null object\n",
      "date_1                       36006 non-null object\n",
      "date_2                       32220 non-null object\n",
      "date_3                       29461 non-null object\n",
      "date_4                       27347 non-null object\n",
      "date_5                       25695 non-null object\n",
      "date_6                       24324 non-null object\n",
      "date_7                       23140 non-null object\n",
      "date_8                       22098 non-null object\n",
      "date_9                       21190 non-null object\n",
      "date_10                      20316 non-null object\n",
      "Time_dif1                    49963 non-null float64\n",
      "Time_dif2                    49963 non-null float64\n",
      "Time_dif3                    49963 non-null float64\n",
      "Time_dif4                    49963 non-null float64\n",
      "Time_dif5                    49963 non-null float64\n",
      "Time_dif6                    49963 non-null float64\n",
      "Time_dif7                    49963 non-null float64\n",
      "Time_dif8                    49963 non-null float64\n",
      "Time_dif9                    49963 non-null float64\n",
      "Time_dif10                   49963 non-null float64\n",
      "Nr_of_Reviews                49963 non-null float64\n",
      "Reviews_nan                  49963 non-null int64\n",
      "Review_Growth                49963 non-null float64\n",
      "Mean_rews                    49963 non-null float64\n",
      "3                            49963 non-null int64\n",
      "4                            49963 non-null int64\n",
      "1                            49963 non-null int64\n",
      "5                            49963 non-null int64\n",
      "2                            49963 non-null int64\n",
      "star                         49963 non-null int64\n",
      "dtypes: float64(29), int64(15), object(16)\n",
      "memory usage: 23.3+ MB\n"
     ]
    }
   ],
   "source": [
    "df.info()"
   ]
  },
  {
   "cell_type": "code",
   "execution_count": 59,
   "metadata": {},
   "outputs": [
    {
     "data": {
      "text/plain": [
       "Index(['City', 'Cuisine Style', 'Ranking', 'Price Range', 'Number of Reviews',\n",
       "       'Reviews', 'URL_TA', 'sample', 'Rating', 'Restaurant_ID',\n",
       "       'Ranking_mean', 'Ranking_diff', 'is_Rome', 'is_Madrid', 'is_capital',\n",
       "       'rating_by_ranking', 'DB_Restaurants_Count', 'DB_Relative_Ranking',\n",
       "       'Population', 'Restaurants_density', 'Cuisine Style Frequencies',\n",
       "       'Rank', 'Country', 'Place', 'Product', 'Programming', 'People',\n",
       "       'Prosperity', 'Promotion', 'Review_stars', 'date_1', 'date_2', 'date_3',\n",
       "       'date_4', 'date_5', 'date_6', 'date_7', 'date_8', 'date_9', 'date_10',\n",
       "       'Time_dif1', 'Time_dif2', 'Time_dif3', 'Time_dif4', 'Time_dif5',\n",
       "       'Time_dif6', 'Time_dif7', 'Time_dif8', 'Time_dif9', 'Time_dif10',\n",
       "       'Nr_of_Reviews', 'Reviews_nan', 'Review_Growth', 'Mean_rews', '3', '4',\n",
       "       '1', '5', '2', 'star'],\n",
       "      dtype='object')"
      ]
     },
     "execution_count": 59,
     "metadata": {},
     "output_type": "execute_result"
    }
   ],
   "source": [
    "df.columns"
   ]
  },
  {
   "cell_type": "code",
   "execution_count": 60,
   "metadata": {},
   "outputs": [],
   "source": [
    "df = df.drop(columns=[\n",
    "    'City', 'Cuisine Style', 'Reviews', 'URL_TA',\n",
    "    'Restaurant_ID', 'Country', 'Review_stars', 'date_1', 'date_2', 'date_3',\n",
    "    'date_4', 'date_5', 'date_6', 'date_7', 'date_8', 'date_9', 'date_10',\n",
    "    'Time_dif8', 'Time_dif9', 'Time_dif10'\n",
    "],\n",
    "        axis=1)"
   ]
  },
  {
   "cell_type": "code",
   "execution_count": 61,
   "metadata": {},
   "outputs": [],
   "source": [
    "# Теперь выделим тестовую часть\n",
    "train_data = df.query('sample == 1').drop(['sample'], axis=1)\n",
    "test_data = df.query('sample == 0').drop(['sample'], axis=1)\n",
    "\n",
    "y = train_data.Rating.values            # наш таргет\n",
    "X = train_data.drop(['Rating'], axis=1)"
   ]
  },
  {
   "cell_type": "markdown",
   "metadata": {},
   "source": [
    "**Перед тем как отправлять наши данные на обучение, разделим данные на еще один тест и трейн, для валидации. \n",
    "Это поможет нам проверить, как хорошо наша модель работает, до отправки submissiona на kaggle.**"
   ]
  },
  {
   "cell_type": "code",
   "execution_count": 62,
   "metadata": {},
   "outputs": [],
   "source": [
    "# Воспользуемся специальной функцие train_test_split для разбивки тестовых данных\n",
    "# выделим 20% данных на валидацию (параметр test_size)\n",
    "X_train, X_test, y_train, y_test = train_test_split(X, y, test_size=0.2, random_state=RANDOM_SEED)"
   ]
  },
  {
   "cell_type": "code",
   "execution_count": 63,
   "metadata": {},
   "outputs": [
    {
     "data": {
      "text/plain": [
       "((10000, 39), (39963, 39), (39963, 38), (31970, 38), (7993, 38))"
      ]
     },
     "execution_count": 63,
     "metadata": {},
     "output_type": "execute_result"
    }
   ],
   "source": [
    "# проверяем\n",
    "test_data.shape, train_data.shape, X.shape, X_train.shape, X_test.shape"
   ]
  },
  {
   "cell_type": "markdown",
   "metadata": {},
   "source": [
    "# Model \n",
    "Сам ML"
   ]
  },
  {
   "cell_type": "code",
   "execution_count": 64,
   "metadata": {},
   "outputs": [],
   "source": [
    "# Импортируем необходимые библиотеки:\n",
    "from sklearn.ensemble import RandomForestRegressor # инструмент для создания и обучения модели\n",
    "from sklearn import metrics # инструменты для оценки точности модели"
   ]
  },
  {
   "cell_type": "code",
   "execution_count": 65,
   "metadata": {},
   "outputs": [],
   "source": [
    "# Создаём модель (НАСТРОЙКИ НЕ ТРОГАЕМ)\n",
    "model = RandomForestRegressor(n_estimators=100, verbose=1, n_jobs=-1, random_state=RANDOM_SEED)"
   ]
  },
  {
   "cell_type": "code",
   "execution_count": 66,
   "metadata": {},
   "outputs": [
    {
     "name": "stderr",
     "output_type": "stream",
     "text": [
      "[Parallel(n_jobs=-1)]: Using backend ThreadingBackend with 4 concurrent workers.\n",
      "[Parallel(n_jobs=-1)]: Done  42 tasks      | elapsed:    7.7s\n",
      "[Parallel(n_jobs=-1)]: Done 100 out of 100 | elapsed:   17.4s finished\n",
      "[Parallel(n_jobs=4)]: Using backend ThreadingBackend with 4 concurrent workers.\n",
      "[Parallel(n_jobs=4)]: Done  42 tasks      | elapsed:    0.0s\n",
      "[Parallel(n_jobs=4)]: Done 100 out of 100 | elapsed:    0.1s finished\n"
     ]
    }
   ],
   "source": [
    "# Обучаем модель на тестовом наборе данных\n",
    "model.fit(X_train, y_train)\n",
    "\n",
    "# Используем обученную модель для предсказания рейтинга ресторанов в тестовой выборке.\n",
    "# Предсказанные значения записываем в переменную y_pred\n",
    "y_pred = model.predict(X_test)"
   ]
  },
  {
   "cell_type": "code",
   "execution_count": 67,
   "metadata": {},
   "outputs": [
    {
     "name": "stdout",
     "output_type": "stream",
     "text": [
      "MAE: 0.19692918803953458\n"
     ]
    }
   ],
   "source": [
    "# Сравниваем предсказанные значения (y_pred) с реальными (y_test), и смотрим насколько они в среднем отличаются\n",
    "# Метрика называется Mean Absolute Error (MAE) и показывает среднее отклонение предсказанных значений от фактических.\n",
    "print('MAE:', metrics.mean_absolute_error(y_test, y_pred))"
   ]
  },
  {
   "cell_type": "code",
   "execution_count": 68,
   "metadata": {},
   "outputs": [
    {
     "data": {
      "text/plain": [
       "<matplotlib.axes._subplots.AxesSubplot at 0x7f149212db00>"
      ]
     },
     "execution_count": 68,
     "metadata": {},
     "output_type": "execute_result"
    },
    {
     "data": {
      "image/png": "[encoded data removed]",
      "text/plain": [
       "<Figure size 720x720 with 1 Axes>"
      ]
     },
     "metadata": {
      "needs_background": "light"
     },
     "output_type": "display_data"
    }
   ],
   "source": [
    "# в RandomForestRegressor есть возможность вывести самые важные признаки для модели\n",
    "plt.rcParams['figure.figsize'] = (10,10)\n",
    "feat_importances = pd.Series(model.feature_importances_, index=X.columns)\n",
    "feat_importances.nlargest(15).plot(kind='barh')"
   ]
  },
  {
   "cell_type": "markdown",
   "metadata": {},
   "source": [
    "# Submission\n",
    "Если все устраевает - готовим Submission на кагл"
   ]
  },
  {
   "cell_type": "code",
   "execution_count": 69,
   "metadata": {},
   "outputs": [
    {
     "data": {
      "text/html": [
       "<div>\n",
       "<style scoped>\n",
       "    .dataframe tbody tr th:only-of-type {\n",
       "        vertical-align: middle;\n",
       "    }\n",
       "\n",
       "    .dataframe tbody tr th {\n",
       "        vertical-align: top;\n",
       "    }\n",
       "\n",
       "    .dataframe thead th {\n",
       "        text-align: right;\n",
       "    }\n",
       "</style>\n",
       "<table border=\"1\" class=\"dataframe\">\n",
       "  <thead>\n",
       "    <tr style=\"text-align: right;\">\n",
       "      <th></th>\n",
       "      <th>Ranking</th>\n",
       "      <th>Price Range</th>\n",
       "      <th>Number of Reviews</th>\n",
       "      <th>Rating</th>\n",
       "      <th>Ranking_mean</th>\n",
       "      <th>Ranking_diff</th>\n",
       "      <th>is_Rome</th>\n",
       "      <th>is_Madrid</th>\n",
       "      <th>is_capital</th>\n",
       "      <th>rating_by_ranking</th>\n",
       "      <th>...</th>\n",
       "      <th>Nr_of_Reviews</th>\n",
       "      <th>Reviews_nan</th>\n",
       "      <th>Review_Growth</th>\n",
       "      <th>Mean_rews</th>\n",
       "      <th>3</th>\n",
       "      <th>4</th>\n",
       "      <th>1</th>\n",
       "      <th>5</th>\n",
       "      <th>2</th>\n",
       "      <th>star</th>\n",
       "    </tr>\n",
       "  </thead>\n",
       "  <tbody>\n",
       "    <tr>\n",
       "      <th>7400</th>\n",
       "      <td>175.0</td>\n",
       "      <td>2</td>\n",
       "      <td>151.0</td>\n",
       "      <td>0.0</td>\n",
       "      <td>175.0</td>\n",
       "      <td>0.0</td>\n",
       "      <td>0</td>\n",
       "      <td>0</td>\n",
       "      <td>1</td>\n",
       "      <td>4.9</td>\n",
       "      <td>...</td>\n",
       "      <td>0.0</td>\n",
       "      <td>0</td>\n",
       "      <td>-151.0</td>\n",
       "      <td>39.90</td>\n",
       "      <td>0</td>\n",
       "      <td>0</td>\n",
       "      <td>0</td>\n",
       "      <td>0</td>\n",
       "      <td>0</td>\n",
       "      <td>1</td>\n",
       "    </tr>\n",
       "    <tr>\n",
       "      <th>3226</th>\n",
       "      <td>2779.0</td>\n",
       "      <td>2</td>\n",
       "      <td>6.0</td>\n",
       "      <td>0.0</td>\n",
       "      <td>2779.0</td>\n",
       "      <td>0.0</td>\n",
       "      <td>0</td>\n",
       "      <td>0</td>\n",
       "      <td>1</td>\n",
       "      <td>2.1</td>\n",
       "      <td>...</td>\n",
       "      <td>0.0</td>\n",
       "      <td>0</td>\n",
       "      <td>-6.0</td>\n",
       "      <td>52.82</td>\n",
       "      <td>0</td>\n",
       "      <td>0</td>\n",
       "      <td>0</td>\n",
       "      <td>0</td>\n",
       "      <td>0</td>\n",
       "      <td>1</td>\n",
       "    </tr>\n",
       "    <tr>\n",
       "      <th>5489</th>\n",
       "      <td>947.0</td>\n",
       "      <td>3</td>\n",
       "      <td>420.0</td>\n",
       "      <td>0.0</td>\n",
       "      <td>947.0</td>\n",
       "      <td>0.0</td>\n",
       "      <td>0</td>\n",
       "      <td>0</td>\n",
       "      <td>1</td>\n",
       "      <td>4.6</td>\n",
       "      <td>...</td>\n",
       "      <td>0.0</td>\n",
       "      <td>0</td>\n",
       "      <td>-420.0</td>\n",
       "      <td>39.90</td>\n",
       "      <td>0</td>\n",
       "      <td>0</td>\n",
       "      <td>0</td>\n",
       "      <td>0</td>\n",
       "      <td>0</td>\n",
       "      <td>1</td>\n",
       "    </tr>\n",
       "    <tr>\n",
       "      <th>9747</th>\n",
       "      <td>8729.0</td>\n",
       "      <td>0</td>\n",
       "      <td>7.0</td>\n",
       "      <td>0.0</td>\n",
       "      <td>8729.0</td>\n",
       "      <td>0.0</td>\n",
       "      <td>0</td>\n",
       "      <td>0</td>\n",
       "      <td>1</td>\n",
       "      <td>2.6</td>\n",
       "      <td>...</td>\n",
       "      <td>0.0</td>\n",
       "      <td>0</td>\n",
       "      <td>-7.0</td>\n",
       "      <td>48.68</td>\n",
       "      <td>0</td>\n",
       "      <td>0</td>\n",
       "      <td>0</td>\n",
       "      <td>0</td>\n",
       "      <td>0</td>\n",
       "      <td>1</td>\n",
       "    </tr>\n",
       "    <tr>\n",
       "      <th>6339</th>\n",
       "      <td>24.0</td>\n",
       "      <td>2</td>\n",
       "      <td>535.0</td>\n",
       "      <td>0.0</td>\n",
       "      <td>24.0</td>\n",
       "      <td>0.0</td>\n",
       "      <td>0</td>\n",
       "      <td>0</td>\n",
       "      <td>0</td>\n",
       "      <td>5.0</td>\n",
       "      <td>...</td>\n",
       "      <td>0.0</td>\n",
       "      <td>0</td>\n",
       "      <td>-535.0</td>\n",
       "      <td>55.08</td>\n",
       "      <td>0</td>\n",
       "      <td>0</td>\n",
       "      <td>0</td>\n",
       "      <td>0</td>\n",
       "      <td>0</td>\n",
       "      <td>1</td>\n",
       "    </tr>\n",
       "    <tr>\n",
       "      <th>9808</th>\n",
       "      <td>2167.0</td>\n",
       "      <td>3</td>\n",
       "      <td>86.0</td>\n",
       "      <td>0.0</td>\n",
       "      <td>2167.0</td>\n",
       "      <td>0.0</td>\n",
       "      <td>1</td>\n",
       "      <td>0</td>\n",
       "      <td>1</td>\n",
       "      <td>3.6</td>\n",
       "      <td>...</td>\n",
       "      <td>0.0</td>\n",
       "      <td>0</td>\n",
       "      <td>-86.0</td>\n",
       "      <td>122.43</td>\n",
       "      <td>0</td>\n",
       "      <td>0</td>\n",
       "      <td>0</td>\n",
       "      <td>0</td>\n",
       "      <td>0</td>\n",
       "      <td>1</td>\n",
       "    </tr>\n",
       "    <tr>\n",
       "      <th>118</th>\n",
       "      <td>1801.0</td>\n",
       "      <td>1</td>\n",
       "      <td>3.0</td>\n",
       "      <td>0.0</td>\n",
       "      <td>1801.0</td>\n",
       "      <td>0.0</td>\n",
       "      <td>0</td>\n",
       "      <td>0</td>\n",
       "      <td>1</td>\n",
       "      <td>1.7</td>\n",
       "      <td>...</td>\n",
       "      <td>0.0</td>\n",
       "      <td>0</td>\n",
       "      <td>-3.0</td>\n",
       "      <td>25.82</td>\n",
       "      <td>0</td>\n",
       "      <td>1</td>\n",
       "      <td>0</td>\n",
       "      <td>0</td>\n",
       "      <td>0</td>\n",
       "      <td>1</td>\n",
       "    </tr>\n",
       "    <tr>\n",
       "      <th>88</th>\n",
       "      <td>1510.0</td>\n",
       "      <td>2</td>\n",
       "      <td>15.0</td>\n",
       "      <td>0.0</td>\n",
       "      <td>1510.0</td>\n",
       "      <td>0.0</td>\n",
       "      <td>0</td>\n",
       "      <td>0</td>\n",
       "      <td>1</td>\n",
       "      <td>3.6</td>\n",
       "      <td>...</td>\n",
       "      <td>0.0</td>\n",
       "      <td>0</td>\n",
       "      <td>-15.0</td>\n",
       "      <td>47.73</td>\n",
       "      <td>0</td>\n",
       "      <td>0</td>\n",
       "      <td>0</td>\n",
       "      <td>0</td>\n",
       "      <td>0</td>\n",
       "      <td>1</td>\n",
       "    </tr>\n",
       "    <tr>\n",
       "      <th>6968</th>\n",
       "      <td>340.0</td>\n",
       "      <td>2</td>\n",
       "      <td>92.0</td>\n",
       "      <td>0.0</td>\n",
       "      <td>340.0</td>\n",
       "      <td>0.0</td>\n",
       "      <td>0</td>\n",
       "      <td>0</td>\n",
       "      <td>1</td>\n",
       "      <td>4.7</td>\n",
       "      <td>...</td>\n",
       "      <td>0.0</td>\n",
       "      <td>0</td>\n",
       "      <td>-92.0</td>\n",
       "      <td>47.73</td>\n",
       "      <td>0</td>\n",
       "      <td>0</td>\n",
       "      <td>0</td>\n",
       "      <td>0</td>\n",
       "      <td>0</td>\n",
       "      <td>1</td>\n",
       "    </tr>\n",
       "    <tr>\n",
       "      <th>7534</th>\n",
       "      <td>4949.0</td>\n",
       "      <td>2</td>\n",
       "      <td>12.0</td>\n",
       "      <td>0.0</td>\n",
       "      <td>4949.0</td>\n",
       "      <td>0.0</td>\n",
       "      <td>1</td>\n",
       "      <td>0</td>\n",
       "      <td>1</td>\n",
       "      <td>1.8</td>\n",
       "      <td>...</td>\n",
       "      <td>0.0</td>\n",
       "      <td>0</td>\n",
       "      <td>-12.0</td>\n",
       "      <td>122.43</td>\n",
       "      <td>0</td>\n",
       "      <td>0</td>\n",
       "      <td>0</td>\n",
       "      <td>0</td>\n",
       "      <td>0</td>\n",
       "      <td>1</td>\n",
       "    </tr>\n",
       "  </tbody>\n",
       "</table>\n",
       "<p>10 rows × 39 columns</p>\n",
       "</div>"
      ],
      "text/plain": [
       "      Ranking  Price Range  Number of Reviews  Rating  Ranking_mean  \\\n",
       "7400    175.0            2              151.0     0.0         175.0   \n",
       "3226   2779.0            2                6.0     0.0        2779.0   \n",
       "5489    947.0            3              420.0     0.0         947.0   \n",
       "9747   8729.0            0                7.0     0.0        8729.0   \n",
       "6339     24.0            2              535.0     0.0          24.0   \n",
       "9808   2167.0            3               86.0     0.0        2167.0   \n",
       "118    1801.0            1                3.0     0.0        1801.0   \n",
       "88     1510.0            2               15.0     0.0        1510.0   \n",
       "6968    340.0            2               92.0     0.0         340.0   \n",
       "7534   4949.0            2               12.0     0.0        4949.0   \n",
       "\n",
       "      Ranking_diff  is_Rome  is_Madrid  is_capital  rating_by_ranking  ...  \\\n",
       "7400           0.0        0          0           1                4.9  ...   \n",
       "3226           0.0        0          0           1                2.1  ...   \n",
       "5489           0.0        0          0           1                4.6  ...   \n",
       "9747           0.0        0          0           1                2.6  ...   \n",
       "6339           0.0        0          0           0                5.0  ...   \n",
       "9808           0.0        1          0           1                3.6  ...   \n",
       "118            0.0        0          0           1                1.7  ...   \n",
       "88             0.0        0          0           1                3.6  ...   \n",
       "6968           0.0        0          0           1                4.7  ...   \n",
       "7534           0.0        1          0           1                1.8  ...   \n",
       "\n",
       "      Nr_of_Reviews  Reviews_nan  Review_Growth  Mean_rews  3  4  1  5  2  \\\n",
       "7400            0.0            0         -151.0      39.90  0  0  0  0  0   \n",
       "3226            0.0            0           -6.0      52.82  0  0  0  0  0   \n",
       "5489            0.0            0         -420.0      39.90  0  0  0  0  0   \n",
       "9747            0.0            0           -7.0      48.68  0  0  0  0  0   \n",
       "6339            0.0            0         -535.0      55.08  0  0  0  0  0   \n",
       "9808            0.0            0          -86.0     122.43  0  0  0  0  0   \n",
       "118             0.0            0           -3.0      25.82  0  1  0  0  0   \n",
       "88              0.0            0          -15.0      47.73  0  0  0  0  0   \n",
       "6968            0.0            0          -92.0      47.73  0  0  0  0  0   \n",
       "7534            0.0            0          -12.0     122.43  0  0  0  0  0   \n",
       "\n",
       "      star  \n",
       "7400     1  \n",
       "3226     1  \n",
       "5489     1  \n",
       "9747     1  \n",
       "6339     1  \n",
       "9808     1  \n",
       "118      1  \n",
       "88       1  \n",
       "6968     1  \n",
       "7534     1  \n",
       "\n",
       "[10 rows x 39 columns]"
      ]
     },
     "execution_count": 69,
     "metadata": {},
     "output_type": "execute_result"
    }
   ],
   "source": [
    "test_data.sample(10)"
   ]
  },
  {
   "cell_type": "code",
   "execution_count": 70,
   "metadata": {},
   "outputs": [],
   "source": [
    "test_data = test_data.drop(['Rating'], axis=1)"
   ]
  },
  {
   "cell_type": "code",
   "execution_count": 71,
   "metadata": {},
   "outputs": [
    {
     "data": {
      "text/html": [
       "<div>\n",
       "<style scoped>\n",
       "    .dataframe tbody tr th:only-of-type {\n",
       "        vertical-align: middle;\n",
       "    }\n",
       "\n",
       "    .dataframe tbody tr th {\n",
       "        vertical-align: top;\n",
       "    }\n",
       "\n",
       "    .dataframe thead th {\n",
       "        text-align: right;\n",
       "    }\n",
       "</style>\n",
       "<table border=\"1\" class=\"dataframe\">\n",
       "  <thead>\n",
       "    <tr style=\"text-align: right;\">\n",
       "      <th></th>\n",
       "      <th>Restaurant_id</th>\n",
       "      <th>Rating</th>\n",
       "    </tr>\n",
       "  </thead>\n",
       "  <tbody>\n",
       "    <tr>\n",
       "      <th>0</th>\n",
       "      <td>id_0</td>\n",
       "      <td>2.0</td>\n",
       "    </tr>\n",
       "    <tr>\n",
       "      <th>1</th>\n",
       "      <td>id_1</td>\n",
       "      <td>2.5</td>\n",
       "    </tr>\n",
       "    <tr>\n",
       "      <th>2</th>\n",
       "      <td>id_2</td>\n",
       "      <td>4.0</td>\n",
       "    </tr>\n",
       "    <tr>\n",
       "      <th>3</th>\n",
       "      <td>id_3</td>\n",
       "      <td>1.0</td>\n",
       "    </tr>\n",
       "    <tr>\n",
       "      <th>4</th>\n",
       "      <td>id_4</td>\n",
       "      <td>4.0</td>\n",
       "    </tr>\n",
       "    <tr>\n",
       "      <th>...</th>\n",
       "      <td>...</td>\n",
       "      <td>...</td>\n",
       "    </tr>\n",
       "    <tr>\n",
       "      <th>9995</th>\n",
       "      <td>id_9995</td>\n",
       "      <td>3.0</td>\n",
       "    </tr>\n",
       "    <tr>\n",
       "      <th>9996</th>\n",
       "      <td>id_9996</td>\n",
       "      <td>1.5</td>\n",
       "    </tr>\n",
       "    <tr>\n",
       "      <th>9997</th>\n",
       "      <td>id_9997</td>\n",
       "      <td>4.5</td>\n",
       "    </tr>\n",
       "    <tr>\n",
       "      <th>9998</th>\n",
       "      <td>id_9998</td>\n",
       "      <td>1.0</td>\n",
       "    </tr>\n",
       "    <tr>\n",
       "      <th>9999</th>\n",
       "      <td>id_9999</td>\n",
       "      <td>2.5</td>\n",
       "    </tr>\n",
       "  </tbody>\n",
       "</table>\n",
       "<p>10000 rows × 2 columns</p>\n",
       "</div>"
      ],
      "text/plain": [
       "     Restaurant_id  Rating\n",
       "0             id_0     2.0\n",
       "1             id_1     2.5\n",
       "2             id_2     4.0\n",
       "3             id_3     1.0\n",
       "4             id_4     4.0\n",
       "...            ...     ...\n",
       "9995       id_9995     3.0\n",
       "9996       id_9996     1.5\n",
       "9997       id_9997     4.5\n",
       "9998       id_9998     1.0\n",
       "9999       id_9999     2.5\n",
       "\n",
       "[10000 rows x 2 columns]"
      ]
     },
     "execution_count": 71,
     "metadata": {},
     "output_type": "execute_result"
    }
   ],
   "source": [
    "sample_submission"
   ]
  },
  {
   "cell_type": "code",
   "execution_count": 72,
   "metadata": {},
   "outputs": [
    {
     "name": "stderr",
     "output_type": "stream",
     "text": [
      "[Parallel(n_jobs=4)]: Using backend ThreadingBackend with 4 concurrent workers.\n",
      "[Parallel(n_jobs=4)]: Done  42 tasks      | elapsed:    0.1s\n",
      "[Parallel(n_jobs=4)]: Done 100 out of 100 | elapsed:    0.1s finished\n"
     ]
    }
   ],
   "source": [
    "predict_submission = model.predict(test_data)"
   ]
  },
  {
   "cell_type": "code",
   "execution_count": 73,
   "metadata": {},
   "outputs": [
    {
     "data": {
      "text/plain": [
       "array([3.395, 4.405, 4.545, ..., 3.035, 4.265, 4.19 ])"
      ]
     },
     "execution_count": 73,
     "metadata": {},
     "output_type": "execute_result"
    }
   ],
   "source": [
    "predict_submission"
   ]
  },
  {
   "cell_type": "code",
   "execution_count": 74,
   "metadata": {},
   "outputs": [
    {
     "data": {
      "text/html": [
       "<div>\n",
       "<style scoped>\n",
       "    .dataframe tbody tr th:only-of-type {\n",
       "        vertical-align: middle;\n",
       "    }\n",
       "\n",
       "    .dataframe tbody tr th {\n",
       "        vertical-align: top;\n",
       "    }\n",
       "\n",
       "    .dataframe thead th {\n",
       "        text-align: right;\n",
       "    }\n",
       "</style>\n",
       "<table border=\"1\" class=\"dataframe\">\n",
       "  <thead>\n",
       "    <tr style=\"text-align: right;\">\n",
       "      <th></th>\n",
       "      <th>Restaurant_id</th>\n",
       "      <th>Rating</th>\n",
       "    </tr>\n",
       "  </thead>\n",
       "  <tbody>\n",
       "    <tr>\n",
       "      <th>0</th>\n",
       "      <td>id_0</td>\n",
       "      <td>3.395</td>\n",
       "    </tr>\n",
       "    <tr>\n",
       "      <th>1</th>\n",
       "      <td>id_1</td>\n",
       "      <td>4.405</td>\n",
       "    </tr>\n",
       "    <tr>\n",
       "      <th>2</th>\n",
       "      <td>id_2</td>\n",
       "      <td>4.545</td>\n",
       "    </tr>\n",
       "    <tr>\n",
       "      <th>3</th>\n",
       "      <td>id_3</td>\n",
       "      <td>4.425</td>\n",
       "    </tr>\n",
       "    <tr>\n",
       "      <th>4</th>\n",
       "      <td>id_4</td>\n",
       "      <td>4.455</td>\n",
       "    </tr>\n",
       "    <tr>\n",
       "      <th>5</th>\n",
       "      <td>id_5</td>\n",
       "      <td>4.530</td>\n",
       "    </tr>\n",
       "    <tr>\n",
       "      <th>6</th>\n",
       "      <td>id_6</td>\n",
       "      <td>1.675</td>\n",
       "    </tr>\n",
       "    <tr>\n",
       "      <th>7</th>\n",
       "      <td>id_7</td>\n",
       "      <td>2.960</td>\n",
       "    </tr>\n",
       "    <tr>\n",
       "      <th>8</th>\n",
       "      <td>id_8</td>\n",
       "      <td>4.025</td>\n",
       "    </tr>\n",
       "    <tr>\n",
       "      <th>9</th>\n",
       "      <td>id_9</td>\n",
       "      <td>4.545</td>\n",
       "    </tr>\n",
       "  </tbody>\n",
       "</table>\n",
       "</div>"
      ],
      "text/plain": [
       "  Restaurant_id  Rating\n",
       "0          id_0   3.395\n",
       "1          id_1   4.405\n",
       "2          id_2   4.545\n",
       "3          id_3   4.425\n",
       "4          id_4   4.455\n",
       "5          id_5   4.530\n",
       "6          id_6   1.675\n",
       "7          id_7   2.960\n",
       "8          id_8   4.025\n",
       "9          id_9   4.545"
      ]
     },
     "execution_count": 74,
     "metadata": {},
     "output_type": "execute_result"
    }
   ],
   "source": [
    "sample_submission['Rating'] = predict_submission\n",
    "sample_submission.to_csv('submission.csv', index=False)\n",
    "sample_submission.head(10)"
   ]
  },
  {
   "cell_type": "markdown",
   "metadata": {},
   "source": [
    "# What's next?\n",
    "Или что делать, чтоб улучшить результат:\n",
    "* Обработать оставшиеся признаки в понятный для машины формат\n",
    "* Посмотреть, что еще можно извлечь из признаков\n",
    "* Сгенерировать новые признаки\n",
    "* Подгрузить дополнительные данные, например: по населению или благосостоянию городов\n",
    "* Подобрать состав признаков\n",
    "\n",
    "В общем, процесс творческий и весьма увлекательный! Удачи в соревновании!\n"
   ]
  },
  {
   "cell_type": "code",
   "execution_count": null,
   "metadata": {},
   "outputs": [],
   "source": []
  }
 ],
 "metadata": {
  "kernelspec": {
   "display_name": "Python 3",
   "language": "python",
   "name": "python3"
  },
  "language_info": {
   "codemirror_mode": {
    "name": "ipython",
    "version": 3
   },
   "file_extension": ".py",
   "mimetype": "text/x-python",
   "name": "python",
   "nbconvert_exporter": "python",
   "pygments_lexer": "ipython3",
   "version": "3.8.3"
  },
  "varInspector": {
   "cols": {
    "lenName": 16,
    "lenType": 16,
    "lenVar": 40
   },
   "kernels_config": {
    "python": {
     "delete_cmd_postfix": "",
     "delete_cmd_prefix": "del ",
     "library": "var_list.py",
     "varRefreshCmd": "print(var_dic_list())"
    },
    "r": {
     "delete_cmd_postfix": ") ",
     "delete_cmd_prefix": "rm(",
     "library": "var_list.r",
     "varRefreshCmd": "cat(var_dic_list()) "
    }
   },
   "types_to_exclude": [
    "module",
    "function",
    "builtin_function_or_method",
    "instance",
    "_Feature"
   ],
   "window_display": false
  }
 },
 "nbformat": 4,
 "nbformat_minor": 4
}
